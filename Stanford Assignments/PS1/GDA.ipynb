{
 "cells": [
  {
   "cell_type": "code",
   "execution_count": 1,
   "metadata": {},
   "outputs": [],
   "source": [
    "import numpy as np\n",
    "from numpy import genfromtxt"
   ]
  },
  {
   "cell_type": "code",
   "execution_count": 2,
   "metadata": {},
   "outputs": [],
   "source": [
    "data = genfromtxt('ds1_train.csv', delimiter = ',')"
   ]
  },
  {
   "cell_type": "code",
   "execution_count": 3,
   "metadata": {},
   "outputs": [],
   "source": [
    "X= data[:,[0,1]]\n",
    "Y = data[:,[2]]"
   ]
  },
  {
   "cell_type": "code",
   "execution_count": 4,
   "metadata": {},
   "outputs": [],
   "source": [
    "X = np.delete(X,0,0)\n",
    "Y = np.delete(Y,0,0)"
   ]
  },
  {
   "cell_type": "code",
   "execution_count": 5,
   "metadata": {},
   "outputs": [],
   "source": [
    "m,n = X.shape"
   ]
  },
  {
   "cell_type": "code",
   "execution_count": 6,
   "metadata": {},
   "outputs": [],
   "source": [
    "phi = (Y==1).sum() / m"
   ]
  },
  {
   "cell_type": "code",
   "execution_count": 31,
   "metadata": {},
   "outputs": [],
   "source": [
    "mu0 = X[Y[:,0]==0].sum(axis=0) / (Y==0).sum()\n",
    "mu1 = X[Y[:,0]==1].sum(axis=0) / (Y==1).sum()\n",
    "\n",
    "n_x = X[Y[:,0]==0] - mu0\n",
    "p_x = X[Y[:,0]==1] - mu1\n",
    "\n",
    "sigma = ((n_x.T).dot(n_x) + (p_x.T).dot(p_x)) / m"
   ]
  },
  {
   "cell_type": "code",
   "execution_count": 32,
   "metadata": {},
   "outputs": [
    {
     "data": {
      "text/plain": [
       "array([[9.53653342e-01, 5.87339678e+01],\n",
       "       [5.87339678e+01, 1.15818332e+04]])"
      ]
     },
     "execution_count": 32,
     "metadata": {},
     "output_type": "execute_result"
    }
   ],
   "source": [
    "sigma"
   ]
  },
  {
   "cell_type": "code",
   "execution_count": 33,
   "metadata": {},
   "outputs": [],
   "source": [
    "''''diff = X.copy()\n",
    "diff[Y[:,0] == 0] -= mu0\n",
    "diff[Y[:,0] == 1] -= mu1\n",
    "sigma1 = (1 / m) * diff.T.dot(diff)''''"
   ]
  },
  {
   "cell_type": "code",
   "execution_count": 48,
   "metadata": {},
   "outputs": [],
   "source": [
    "mu0 = mu0.reshape(-1,1)\n",
    "mu1 = mu1.reshape(-1,1)\n",
    "sigma_inv = np.linalg.inv(sigma)"
   ]
  },
  {
   "cell_type": "code",
   "execution_count": 51,
   "metadata": {},
   "outputs": [],
   "source": [
    "theta = sigma_inv.dot(mu1 - mu0)"
   ]
  },
  {
   "cell_type": "code",
   "execution_count": 59,
   "metadata": {},
   "outputs": [],
   "source": [
    "theta0 = 0.5 * (mu0.T.dot(sigma_inv).dot(mu0) - mu1.T.dot(sigma_inv).dot(mu1)) - np.log((1 - phi) / phi)"
   ]
  },
  {
   "cell_type": "code",
   "execution_count": 62,
   "metadata": {},
   "outputs": [],
   "source": [
    "theta = np.vstack([theta0, theta])"
   ]
  },
  {
   "cell_type": "code",
   "execution_count": 63,
   "metadata": {},
   "outputs": [
    {
     "data": {
      "text/plain": [
       "array([[-6.17158405],\n",
       "       [ 2.22055506],\n",
       "       [-0.01763375]])"
      ]
     },
     "execution_count": 63,
     "metadata": {},
     "output_type": "execute_result"
    }
   ],
   "source": [
    "theta"
   ]
  },
  {
   "cell_type": "code",
   "execution_count": 81,
   "metadata": {},
   "outputs": [],
   "source": [
    "def predict(x):\n",
    "    g = lambda x : 1 / (1+np.exp(-x))\n",
    "    preds = g(x*theta)\n",
    "    return preds>0.7"
   ]
  },
  {
   "cell_type": "code",
   "execution_count": 72,
   "metadata": {},
   "outputs": [],
   "source": [
    "val_data = genfromtxt('ds1_valid.csv', delimiter = ',')\n",
    "X_val= val_data[:,[0,1]]\n",
    "Y_val = val_data[:,[2]]\n",
    "X_val = np.delete(X_val,0,0)\n",
    "Y_val = np.delete(Y_val,0,0)\n",
    "intercept_val = np.matrix(np.ones(len(X_val))).T\n",
    "X_val = np.append(intercept_val,X_val,1)"
   ]
  },
  {
   "cell_type": "code",
   "execution_count": 82,
   "metadata": {},
   "outputs": [],
   "source": [
    "y_preds = predict(X_val)"
   ]
  },
  {
   "cell_type": "code",
   "execution_count": 91,
   "metadata": {},
   "outputs": [],
   "source": [
    "\n",
    "y_preds = y_preds*1\n"
   ]
  },
  {
   "cell_type": "code",
   "execution_count": 84,
   "metadata": {},
   "outputs": [
    {
     "data": {
      "text/plain": [
       "0.89"
      ]
     },
     "execution_count": 84,
     "metadata": {},
     "output_type": "execute_result"
    }
   ],
   "source": [
    "from sklearn.metrics import accuracy_score\n",
    "\n",
    "accuracy_score(Y_val,y_preds)"
   ]
  },
  {
   "cell_type": "code",
   "execution_count": 2,
   "metadata": {},
   "outputs": [
    {
     "data": {
      "text/html": [
       "<div>\n",
       "<style scoped>\n",
       "    .dataframe tbody tr th:only-of-type {\n",
       "        vertical-align: middle;\n",
       "    }\n",
       "\n",
       "    .dataframe tbody tr th {\n",
       "        vertical-align: top;\n",
       "    }\n",
       "\n",
       "    .dataframe thead th {\n",
       "        text-align: right;\n",
       "    }\n",
       "</style>\n",
       "<table border=\"1\" class=\"dataframe\">\n",
       "  <thead>\n",
       "    <tr style=\"text-align: right;\">\n",
       "      <th></th>\n",
       "      <th>x_1</th>\n",
       "      <th>x_2</th>\n",
       "      <th>y</th>\n",
       "    </tr>\n",
       "  </thead>\n",
       "  <tbody>\n",
       "    <tr>\n",
       "      <th>50</th>\n",
       "      <td>4.878533</td>\n",
       "      <td>145.227867</td>\n",
       "      <td>1.0</td>\n",
       "    </tr>\n",
       "    <tr>\n",
       "      <th>51</th>\n",
       "      <td>2.635337</td>\n",
       "      <td>5.900009</td>\n",
       "      <td>1.0</td>\n",
       "    </tr>\n",
       "    <tr>\n",
       "      <th>52</th>\n",
       "      <td>4.449186</td>\n",
       "      <td>144.620260</td>\n",
       "      <td>1.0</td>\n",
       "    </tr>\n",
       "    <tr>\n",
       "      <th>53</th>\n",
       "      <td>3.558004</td>\n",
       "      <td>6.362452</td>\n",
       "      <td>1.0</td>\n",
       "    </tr>\n",
       "    <tr>\n",
       "      <th>54</th>\n",
       "      <td>3.587032</td>\n",
       "      <td>46.062342</td>\n",
       "      <td>1.0</td>\n",
       "    </tr>\n",
       "    <tr>\n",
       "      <th>55</th>\n",
       "      <td>4.923027</td>\n",
       "      <td>28.328045</td>\n",
       "      <td>1.0</td>\n",
       "    </tr>\n",
       "    <tr>\n",
       "      <th>56</th>\n",
       "      <td>3.161792</td>\n",
       "      <td>39.409271</td>\n",
       "      <td>1.0</td>\n",
       "    </tr>\n",
       "    <tr>\n",
       "      <th>57</th>\n",
       "      <td>3.019269</td>\n",
       "      <td>32.624745</td>\n",
       "      <td>1.0</td>\n",
       "    </tr>\n",
       "    <tr>\n",
       "      <th>58</th>\n",
       "      <td>3.640750</td>\n",
       "      <td>23.779436</td>\n",
       "      <td>1.0</td>\n",
       "    </tr>\n",
       "    <tr>\n",
       "      <th>59</th>\n",
       "      <td>4.162575</td>\n",
       "      <td>56.943440</td>\n",
       "      <td>1.0</td>\n",
       "    </tr>\n",
       "    <tr>\n",
       "      <th>60</th>\n",
       "      <td>4.203554</td>\n",
       "      <td>31.082599</td>\n",
       "      <td>1.0</td>\n",
       "    </tr>\n",
       "    <tr>\n",
       "      <th>61</th>\n",
       "      <td>3.802815</td>\n",
       "      <td>40.737994</td>\n",
       "      <td>1.0</td>\n",
       "    </tr>\n",
       "    <tr>\n",
       "      <th>62</th>\n",
       "      <td>2.381853</td>\n",
       "      <td>9.354769</td>\n",
       "      <td>1.0</td>\n",
       "    </tr>\n",
       "    <tr>\n",
       "      <th>63</th>\n",
       "      <td>4.738987</td>\n",
       "      <td>28.830628</td>\n",
       "      <td>1.0</td>\n",
       "    </tr>\n",
       "    <tr>\n",
       "      <th>64</th>\n",
       "      <td>4.332298</td>\n",
       "      <td>60.358743</td>\n",
       "      <td>1.0</td>\n",
       "    </tr>\n",
       "    <tr>\n",
       "      <th>65</th>\n",
       "      <td>4.151575</td>\n",
       "      <td>14.797439</td>\n",
       "      <td>1.0</td>\n",
       "    </tr>\n",
       "    <tr>\n",
       "      <th>66</th>\n",
       "      <td>4.087560</td>\n",
       "      <td>33.451285</td>\n",
       "      <td>1.0</td>\n",
       "    </tr>\n",
       "    <tr>\n",
       "      <th>67</th>\n",
       "      <td>4.425365</td>\n",
       "      <td>118.533105</td>\n",
       "      <td>1.0</td>\n",
       "    </tr>\n",
       "    <tr>\n",
       "      <th>68</th>\n",
       "      <td>3.229523</td>\n",
       "      <td>11.798892</td>\n",
       "      <td>1.0</td>\n",
       "    </tr>\n",
       "    <tr>\n",
       "      <th>69</th>\n",
       "      <td>4.296173</td>\n",
       "      <td>53.854444</td>\n",
       "      <td>1.0</td>\n",
       "    </tr>\n",
       "    <tr>\n",
       "      <th>70</th>\n",
       "      <td>5.300647</td>\n",
       "      <td>50.574085</td>\n",
       "      <td>1.0</td>\n",
       "    </tr>\n",
       "    <tr>\n",
       "      <th>71</th>\n",
       "      <td>2.986070</td>\n",
       "      <td>10.928790</td>\n",
       "      <td>1.0</td>\n",
       "    </tr>\n",
       "    <tr>\n",
       "      <th>72</th>\n",
       "      <td>3.711116</td>\n",
       "      <td>21.441294</td>\n",
       "      <td>1.0</td>\n",
       "    </tr>\n",
       "    <tr>\n",
       "      <th>73</th>\n",
       "      <td>3.437914</td>\n",
       "      <td>11.421708</td>\n",
       "      <td>1.0</td>\n",
       "    </tr>\n",
       "    <tr>\n",
       "      <th>74</th>\n",
       "      <td>4.065461</td>\n",
       "      <td>30.600820</td>\n",
       "      <td>1.0</td>\n",
       "    </tr>\n",
       "    <tr>\n",
       "      <th>75</th>\n",
       "      <td>4.604253</td>\n",
       "      <td>81.441103</td>\n",
       "      <td>1.0</td>\n",
       "    </tr>\n",
       "    <tr>\n",
       "      <th>76</th>\n",
       "      <td>4.561932</td>\n",
       "      <td>11.991808</td>\n",
       "      <td>1.0</td>\n",
       "    </tr>\n",
       "    <tr>\n",
       "      <th>77</th>\n",
       "      <td>3.673061</td>\n",
       "      <td>10.228575</td>\n",
       "      <td>1.0</td>\n",
       "    </tr>\n",
       "    <tr>\n",
       "      <th>78</th>\n",
       "      <td>5.077607</td>\n",
       "      <td>59.041796</td>\n",
       "      <td>1.0</td>\n",
       "    </tr>\n",
       "    <tr>\n",
       "      <th>79</th>\n",
       "      <td>2.803436</td>\n",
       "      <td>8.755266</td>\n",
       "      <td>1.0</td>\n",
       "    </tr>\n",
       "    <tr>\n",
       "      <th>80</th>\n",
       "      <td>2.294092</td>\n",
       "      <td>8.203514</td>\n",
       "      <td>1.0</td>\n",
       "    </tr>\n",
       "    <tr>\n",
       "      <th>81</th>\n",
       "      <td>6.177435</td>\n",
       "      <td>127.455490</td>\n",
       "      <td>1.0</td>\n",
       "    </tr>\n",
       "    <tr>\n",
       "      <th>82</th>\n",
       "      <td>4.202404</td>\n",
       "      <td>64.906688</td>\n",
       "      <td>1.0</td>\n",
       "    </tr>\n",
       "    <tr>\n",
       "      <th>83</th>\n",
       "      <td>4.756387</td>\n",
       "      <td>40.510175</td>\n",
       "      <td>1.0</td>\n",
       "    </tr>\n",
       "    <tr>\n",
       "      <th>84</th>\n",
       "      <td>3.595092</td>\n",
       "      <td>14.514025</td>\n",
       "      <td>1.0</td>\n",
       "    </tr>\n",
       "    <tr>\n",
       "      <th>85</th>\n",
       "      <td>4.313601</td>\n",
       "      <td>36.414785</td>\n",
       "      <td>1.0</td>\n",
       "    </tr>\n",
       "    <tr>\n",
       "      <th>86</th>\n",
       "      <td>4.251890</td>\n",
       "      <td>27.370731</td>\n",
       "      <td>1.0</td>\n",
       "    </tr>\n",
       "    <tr>\n",
       "      <th>87</th>\n",
       "      <td>3.748487</td>\n",
       "      <td>22.301345</td>\n",
       "      <td>1.0</td>\n",
       "    </tr>\n",
       "    <tr>\n",
       "      <th>88</th>\n",
       "      <td>3.941918</td>\n",
       "      <td>27.679692</td>\n",
       "      <td>1.0</td>\n",
       "    </tr>\n",
       "    <tr>\n",
       "      <th>89</th>\n",
       "      <td>5.239701</td>\n",
       "      <td>162.456152</td>\n",
       "      <td>1.0</td>\n",
       "    </tr>\n",
       "    <tr>\n",
       "      <th>90</th>\n",
       "      <td>2.776544</td>\n",
       "      <td>7.708290</td>\n",
       "      <td>1.0</td>\n",
       "    </tr>\n",
       "    <tr>\n",
       "      <th>91</th>\n",
       "      <td>3.533394</td>\n",
       "      <td>31.870461</td>\n",
       "      <td>1.0</td>\n",
       "    </tr>\n",
       "    <tr>\n",
       "      <th>92</th>\n",
       "      <td>3.449501</td>\n",
       "      <td>31.752369</td>\n",
       "      <td>1.0</td>\n",
       "    </tr>\n",
       "    <tr>\n",
       "      <th>93</th>\n",
       "      <td>3.624766</td>\n",
       "      <td>39.188792</td>\n",
       "      <td>1.0</td>\n",
       "    </tr>\n",
       "    <tr>\n",
       "      <th>94</th>\n",
       "      <td>3.963664</td>\n",
       "      <td>36.647745</td>\n",
       "      <td>1.0</td>\n",
       "    </tr>\n",
       "    <tr>\n",
       "      <th>95</th>\n",
       "      <td>3.795618</td>\n",
       "      <td>11.708285</td>\n",
       "      <td>1.0</td>\n",
       "    </tr>\n",
       "    <tr>\n",
       "      <th>96</th>\n",
       "      <td>3.953480</td>\n",
       "      <td>7.320390</td>\n",
       "      <td>1.0</td>\n",
       "    </tr>\n",
       "    <tr>\n",
       "      <th>97</th>\n",
       "      <td>3.863524</td>\n",
       "      <td>26.396698</td>\n",
       "      <td>1.0</td>\n",
       "    </tr>\n",
       "    <tr>\n",
       "      <th>98</th>\n",
       "      <td>4.917294</td>\n",
       "      <td>102.078713</td>\n",
       "      <td>1.0</td>\n",
       "    </tr>\n",
       "    <tr>\n",
       "      <th>99</th>\n",
       "      <td>3.319729</td>\n",
       "      <td>12.761634</td>\n",
       "      <td>1.0</td>\n",
       "    </tr>\n",
       "  </tbody>\n",
       "</table>\n",
       "</div>"
      ],
      "text/plain": [
       "         x_1         x_2    y\n",
       "50  4.878533  145.227867  1.0\n",
       "51  2.635337    5.900009  1.0\n",
       "52  4.449186  144.620260  1.0\n",
       "53  3.558004    6.362452  1.0\n",
       "54  3.587032   46.062342  1.0\n",
       "55  4.923027   28.328045  1.0\n",
       "56  3.161792   39.409271  1.0\n",
       "57  3.019269   32.624745  1.0\n",
       "58  3.640750   23.779436  1.0\n",
       "59  4.162575   56.943440  1.0\n",
       "60  4.203554   31.082599  1.0\n",
       "61  3.802815   40.737994  1.0\n",
       "62  2.381853    9.354769  1.0\n",
       "63  4.738987   28.830628  1.0\n",
       "64  4.332298   60.358743  1.0\n",
       "65  4.151575   14.797439  1.0\n",
       "66  4.087560   33.451285  1.0\n",
       "67  4.425365  118.533105  1.0\n",
       "68  3.229523   11.798892  1.0\n",
       "69  4.296173   53.854444  1.0\n",
       "70  5.300647   50.574085  1.0\n",
       "71  2.986070   10.928790  1.0\n",
       "72  3.711116   21.441294  1.0\n",
       "73  3.437914   11.421708  1.0\n",
       "74  4.065461   30.600820  1.0\n",
       "75  4.604253   81.441103  1.0\n",
       "76  4.561932   11.991808  1.0\n",
       "77  3.673061   10.228575  1.0\n",
       "78  5.077607   59.041796  1.0\n",
       "79  2.803436    8.755266  1.0\n",
       "80  2.294092    8.203514  1.0\n",
       "81  6.177435  127.455490  1.0\n",
       "82  4.202404   64.906688  1.0\n",
       "83  4.756387   40.510175  1.0\n",
       "84  3.595092   14.514025  1.0\n",
       "85  4.313601   36.414785  1.0\n",
       "86  4.251890   27.370731  1.0\n",
       "87  3.748487   22.301345  1.0\n",
       "88  3.941918   27.679692  1.0\n",
       "89  5.239701  162.456152  1.0\n",
       "90  2.776544    7.708290  1.0\n",
       "91  3.533394   31.870461  1.0\n",
       "92  3.449501   31.752369  1.0\n",
       "93  3.624766   39.188792  1.0\n",
       "94  3.963664   36.647745  1.0\n",
       "95  3.795618   11.708285  1.0\n",
       "96  3.953480    7.320390  1.0\n",
       "97  3.863524   26.396698  1.0\n",
       "98  4.917294  102.078713  1.0\n",
       "99  3.319729   12.761634  1.0"
      ]
     },
     "execution_count": 2,
     "metadata": {},
     "output_type": "execute_result"
    }
   ],
   "source": [
    "import matplotlib.pyplot as plt\n",
    "import pandas as pd\n",
    "\n",
    "datav = pd.read_csv('ds1_valid.csv')\n",
    "\n",
    "X_vis = datav.iloc[:, :-1]\n",
    "y_vis = datav.iloc[:, -1]\n",
    "\n",
    "pos = datav.loc[y_vis==1]\n",
    "neg = datav.loc[y_vis==0]\n"
   ]
  },
  {
   "cell_type": "code",
   "execution_count": 100,
   "metadata": {},
   "outputs": [
    {
     "data": {
      "image/png": "[encoded data removed]",
      "text/plain": [
       "<Figure size 432x288 with 1 Axes>"
      ]
     },
     "metadata": {},
     "output_type": "display_data"
    }
   ],
   "source": [
    "plt.scatter(pos.iloc[:, 0], pos.iloc[:, 1], s=10, label='pos')\n",
    "plt.scatter(neg.iloc[:, 0], neg.iloc[:, 1], s=10, label='neg')\n",
    "plt.legend()\n",
    "plt.show()"
   ]
  },
  {
   "cell_type": "code",
   "execution_count": 122,
   "metadata": {},
   "outputs": [
    {
     "data": {
      "text/plain": [
       "[-6.171584053680651, 2.2205550622761656, -0.017633752759284582]"
      ]
     },
     "execution_count": 122,
     "metadata": {},
     "output_type": "execute_result"
    }
   ],
   "source": [
    "parameters = theta.T.copy()\n",
    "parameters = np.ravel(parameters)\n",
    "parameters = list(parameters)\n",
    "parameters\n"
   ]
  },
  {
   "cell_type": "code",
   "execution_count": 105,
   "metadata": {},
   "outputs": [
    {
     "data": {
      "text/html": [
       "<div>\n",
       "<style scoped>\n",
       "    .dataframe tbody tr th:only-of-type {\n",
       "        vertical-align: middle;\n",
       "    }\n",
       "\n",
       "    .dataframe tbody tr th {\n",
       "        vertical-align: top;\n",
       "    }\n",
       "\n",
       "    .dataframe thead th {\n",
       "        text-align: right;\n",
       "    }\n",
       "</style>\n",
       "<table border=\"1\" class=\"dataframe\">\n",
       "  <thead>\n",
       "    <tr style=\"text-align: right;\">\n",
       "      <th></th>\n",
       "      <th>x_1</th>\n",
       "      <th>x_2</th>\n",
       "    </tr>\n",
       "  </thead>\n",
       "  <tbody>\n",
       "    <tr>\n",
       "      <th>0</th>\n",
       "      <td>2.177396</td>\n",
       "      <td>78.630076</td>\n",
       "    </tr>\n",
       "    <tr>\n",
       "      <th>1</th>\n",
       "      <td>3.952131</td>\n",
       "      <td>123.541573</td>\n",
       "    </tr>\n",
       "    <tr>\n",
       "      <th>2</th>\n",
       "      <td>3.351176</td>\n",
       "      <td>47.752517</td>\n",
       "    </tr>\n",
       "    <tr>\n",
       "      <th>3</th>\n",
       "      <td>2.074934</td>\n",
       "      <td>26.997730</td>\n",
       "    </tr>\n",
       "    <tr>\n",
       "      <th>4</th>\n",
       "      <td>3.579775</td>\n",
       "      <td>226.703779</td>\n",
       "    </tr>\n",
       "  </tbody>\n",
       "</table>\n",
       "</div>"
      ],
      "text/plain": [
       "        x_1         x_2\n",
       "0  2.177396   78.630076\n",
       "1  3.952131  123.541573\n",
       "2  3.351176   47.752517\n",
       "3  2.074934   26.997730\n",
       "4  3.579775  226.703779"
      ]
     },
     "execution_count": 105,
     "metadata": {},
     "output_type": "execute_result"
    }
   ],
   "source": [
    "X_vis.head()"
   ]
  },
  {
   "cell_type": "code",
   "execution_count": 106,
   "metadata": {},
   "outputs": [],
   "source": [
    "X_vis = np.c_[np.ones((X_vis.shape[0], 1)), X_vis]\n",
    "y_vis = y_vis[:, np.newaxis]"
   ]
  },
  {
   "cell_type": "code",
   "execution_count": 138,
   "metadata": {},
   "outputs": [
    {
     "data": {
      "text/plain": [
       "[-3.5674841357112825, 1424.0491050837586]"
      ]
     },
     "execution_count": 138,
     "metadata": {},
     "output_type": "execute_result"
    }
   ],
   "source": [
    "x_values = [np.min(X_vis[:, 1] - 5), np.max(X_vis[:, 2] + 5)]\n",
    "y_values = - (parameters[0] + np.dot(parameters[1], x_values)) / parameters[2]\n",
    "x_values"
   ]
  },
  {
   "cell_type": "code",
   "execution_count": 137,
   "metadata": {},
   "outputs": [
    {
     "data": {
      "image/png": "[encoded data removed]",
      "text/plain": [
       "<Figure size 432x288 with 1 Axes>"
      ]
     },
     "metadata": {},
     "output_type": "display_data"
    }
   ],
   "source": [
    "plt.scatter(pos.iloc[:, 0], pos.iloc[:, 1], s=10, label='pos')\n",
    "plt.scatter(neg.iloc[:, 0], neg.iloc[:, 1], s=10, label='neg')\n",
    "plt.plot(x_values, y_values, label='Decision Boundary')\n",
    "plt.xlim(1,6)\n",
    "plt.ylim((-200,1400))\n",
    "\n",
    "plt.legend()\n",
    "plt.show()"
   ]
  },
  {
   "cell_type": "code",
   "execution_count": null,
   "metadata": {},
   "outputs": [],
   "source": []
  }
 ],
 "metadata": {
  "kernelspec": {
   "display_name": "Python 3",
   "language": "python",
   "name": "python3"
  },
  "language_info": {
   "codemirror_mode": {
    "name": "ipython",
    "version": 3
   },
   "file_extension": ".py",
   "mimetype": "text/x-python",
   "name": "python",
   "nbconvert_exporter": "python",
   "pygments_lexer": "ipython3",
   "version": "3.6.3"
  }
 },
 "nbformat": 4,
 "nbformat_minor": 2
}
