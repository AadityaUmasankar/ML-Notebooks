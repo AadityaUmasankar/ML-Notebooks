{
 "cells": [
  {
   "cell_type": "code",
   "execution_count": 1,
   "metadata": {},
   "outputs": [],
   "source": [
    "import numpy as np\n",
    "from numpy import genfromtxt"
   ]
  },
  {
   "cell_type": "code",
   "execution_count": 2,
   "metadata": {},
   "outputs": [],
   "source": [
    "data = genfromtxt('ds5_train.csv', delimiter = ',')"
   ]
  },
  {
   "cell_type": "code",
   "execution_count": 3,
   "metadata": {},
   "outputs": [],
   "source": [
    "X= data[:,[0]]\n",
    "Y = data[:,[1]]"
   ]
  },
  {
   "cell_type": "code",
   "execution_count": 4,
   "metadata": {},
   "outputs": [],
   "source": [
    "X = np.delete(X,0,0)\n",
    "Y = np.delete(Y,0,0)"
   ]
  },
  {
   "cell_type": "code",
   "execution_count": 9,
   "metadata": {},
   "outputs": [],
   "source": [
    "intercept = np.matrix(np.ones(len(X))).T\n",
    "X = np.append(intercept,X,1)"
   ]
  },
  {
   "cell_type": "code",
   "execution_count": null,
   "metadata": {},
   "outputs": [],
   "source": [
    "data_val = genfromtxt('ds5_valid.csv', delimiter = ',')"
   ]
  },
  {
   "cell_type": "code",
   "execution_count": null,
   "metadata": {},
   "outputs": [],
   "source": [
    "X_val= data_val[:,[0]]\n",
    "Y_val = data_val[:,[1]]\n"
   ]
  },
  {
   "cell_type": "code",
   "execution_count": null,
   "metadata": {},
   "outputs": [],
   "source": [
    "X_val = np.delete(X_val,0,0)\n",
    "Y_val = np.delete(Y_val,0,0)\n",
    "\n",
    "intercept = np.matrix(np.ones(len(X_val))).T\n",
    "X_val = np.append(intercept,X_val,1)"
   ]
  },
  {
   "cell_type": "code",
   "execution_count": null,
   "metadata": {},
   "outputs": [],
   "source": [
    "X_val"
   ]
  },
  {
   "cell_type": "code",
   "execution_count": null,
   "metadata": {},
   "outputs": [],
   "source": []
  },
  {
   "cell_type": "code",
   "execution_count": null,
   "metadata": {},
   "outputs": [],
   "source": [
    "from numpy.linalg import inv, norm\n"
   ]
  },
  {
   "cell_type": "code",
   "execution_count": null,
   "metadata": {},
   "outputs": [],
   "source": [
    "X = np.array(X)\n",
    "Y = np.array(Y)\n",
    "X_val = np.array(X_val)"
   ]
  },
  {
   "cell_type": "code",
   "execution_count": null,
   "metadata": {},
   "outputs": [],
   "source": [
    "g = lambda x: np.exp(- (x ** 2) / (2 * 0.05 ** 2))"
   ]
  },
  {
   "cell_type": "code",
   "execution_count": null,
   "metadata": {},
   "outputs": [],
   "source": [
    "W = g(norm(X[None] - X_val[:,None],axis=2))"
   ]
  },
  {
   "cell_type": "code",
   "execution_count": null,
   "metadata": {},
   "outputs": [],
   "source": [
    "W"
   ]
  },
  {
   "cell_type": "code",
   "execution_count": null,
   "metadata": {},
   "outputs": [],
   "source": [
    "W.shape"
   ]
  },
  {
   "cell_type": "code",
   "execution_count": null,
   "metadata": {},
   "outputs": [],
   "source": [
    "m,n = X_val.shape"
   ]
  },
  {
   "cell_type": "code",
   "execution_count": null,
   "metadata": {},
   "outputs": [],
   "source": [
    "y_preds = np.zeros(m)"
   ]
  },
  {
   "cell_type": "code",
   "execution_count": null,
   "metadata": {},
   "outputs": [],
   "source": [
    "for i,w in enumerate(W):\n",
    "    w = np.diag(w)\n",
    "    theta = inv(X.T.dot(w).dot(X)).dot(X.T).dot(w).dot(Y)\n",
    "    # make prediction\n",
    "    y_preds[i] = X_val[i].dot(theta)"
   ]
  },
  {
   "cell_type": "code",
   "execution_count": null,
   "metadata": {},
   "outputs": [],
   "source": [
    "y_preds"
   ]
  },
  {
   "cell_type": "code",
   "execution_count": null,
   "metadata": {},
   "outputs": [],
   "source": [
    "Y_val = np.matrix(Y_val).T"
   ]
  },
  {
   "cell_type": "code",
   "execution_count": null,
   "metadata": {},
   "outputs": [],
   "source": [
    "y_preds = np.matrix(y_preds).T"
   ]
  },
  {
   "cell_type": "code",
   "execution_count": null,
   "metadata": {},
   "outputs": [],
   "source": [
    "y_preds.shape"
   ]
  },
  {
   "cell_type": "code",
   "execution_count": null,
   "metadata": {},
   "outputs": [],
   "source": [
    "type(Y_val)"
   ]
  },
  {
   "cell_type": "code",
   "execution_count": null,
   "metadata": {},
   "outputs": [],
   "source": [
    "type(y_preds)"
   ]
  },
  {
   "cell_type": "code",
   "execution_count": null,
   "metadata": {},
   "outputs": [],
   "source": [
    "Y_val.shape"
   ]
  },
  {
   "cell_type": "code",
   "execution_count": null,
   "metadata": {},
   "outputs": [],
   "source": [
    "num = y_preds - Y_val"
   ]
  },
  {
   "cell_type": "code",
   "execution_count": null,
   "metadata": {},
   "outputs": [],
   "source": [
    "num = np.array(num)"
   ]
  },
  {
   "cell_type": "code",
   "execution_count": null,
   "metadata": {},
   "outputs": [],
   "source": [
    "np.mean(num**2)"
   ]
  },
  {
   "cell_type": "code",
   "execution_count": null,
   "metadata": {},
   "outputs": [],
   "source": [
    "#tau=0.5 mse=0.330531\n",
    "import matplotlib.pyplot as plt\n",
    "plt.figure()\n",
    "plt.plot(X, Y, 'bx')\n",
    "plt.plot(X_val, y_preds, 'ro')\n",
    "plt.savefig('tau0.5.png')\n",
    "plt.show()\n"
   ]
  },
  {
   "cell_type": "code",
   "execution_count": null,
   "metadata": {},
   "outputs": [],
   "source": [
    "#tau=0.05 mse=0.0124000\n",
    "plt.figure()\n",
    "plt.plot(X, Y, 'bx')\n",
    "plt.plot(X_val, y_preds, 'ro')\n",
    "plt.savefig('tau0.05.png')\n",
    "plt.show()\n"
   ]
  },
  {
   "cell_type": "code",
   "execution_count": 12,
   "metadata": {},
   "outputs": [
    {
     "data": {
      "image/png": "[encoded data removed]",
      "text/plain": [
       "<Figure size 432x288 with 1 Axes>"
      ]
     },
     "metadata": {},
     "output_type": "display_data"
    }
   ],
   "source": [
    "import matplotlib.pyplot as plt\n",
    "\n",
    "plt.plot(X, Y, 'bx')\n",
    "plt.show()"
   ]
  },
  {
   "cell_type": "code",
   "execution_count": 11,
   "metadata": {},
   "outputs": [
    {
     "data": {
      "text/plain": [
       "matrix([[ 1.        , -4.02975001],\n",
       "        [ 1.        , -2.52457661],\n",
       "        [ 1.        ,  2.7946174 ],\n",
       "        [ 1.        ,  1.69590357],\n",
       "        [ 1.        , -1.45839187],\n",
       "        [ 1.        ,  0.8368018 ],\n",
       "        [ 1.        ,  4.04012671],\n",
       "        [ 1.        ,  1.94672233],\n",
       "        [ 1.        , -2.57638118],\n",
       "        [ 1.        ,  1.69435277],\n",
       "        [ 1.        ,  4.55563078],\n",
       "        [ 1.        , -1.57818748],\n",
       "        [ 1.        ,  3.57525896],\n",
       "        [ 1.        ,  4.31427256],\n",
       "        [ 1.        , -3.87303135],\n",
       "        [ 1.        ,  2.64900274],\n",
       "        [ 1.        ,  2.15802899],\n",
       "        [ 1.        ,  4.00870375],\n",
       "        [ 1.        , -1.12401711],\n",
       "        [ 1.        ,  4.15225061],\n",
       "        [ 1.        , -2.16654758],\n",
       "        [ 1.        , -4.41524444],\n",
       "        [ 1.        , -0.69531647],\n",
       "        [ 1.        , -3.77755514],\n",
       "        [ 1.        , -2.39641247],\n",
       "        [ 1.        , -2.16684545],\n",
       "        [ 1.        , -2.58082722],\n",
       "        [ 1.        , -1.20611524],\n",
       "        [ 1.        ,  1.27583294],\n",
       "        [ 1.        , -3.04415956],\n",
       "        [ 1.        ,  1.0424325 ],\n",
       "        [ 1.        ,  4.12796076],\n",
       "        [ 1.        , -4.46018687],\n",
       "        [ 1.        ,  2.8905592 ],\n",
       "        [ 1.        ,  2.45490456],\n",
       "        [ 1.        , -4.7127504 ],\n",
       "        [ 1.        ,  0.51957597],\n",
       "        [ 1.        ,  0.56013706],\n",
       "        [ 1.        ,  4.03762218],\n",
       "        [ 1.        ,  0.80501729],\n",
       "        [ 1.        , -1.4104053 ],\n",
       "        [ 1.        ,  3.92839263],\n",
       "        [ 1.        , -3.28085468],\n",
       "        [ 1.        , -2.21347344],\n",
       "        [ 1.        , -4.10388627],\n",
       "        [ 1.        , -4.25358892],\n",
       "        [ 1.        ,  0.15129022],\n",
       "        [ 1.        , -3.34913648],\n",
       "        [ 1.        ,  4.88992336],\n",
       "        [ 1.        , -0.590472  ],\n",
       "        [ 1.        , -1.13893305],\n",
       "        [ 1.        ,  4.72748296],\n",
       "        [ 1.        , -2.95375387],\n",
       "        [ 1.        ,  4.80132641],\n",
       "        [ 1.        , -2.18396468],\n",
       "        [ 1.        ,  0.40361877],\n",
       "        [ 1.        , -1.96198188],\n",
       "        [ 1.        ,  0.03489408],\n",
       "        [ 1.        ,  4.8688271 ],\n",
       "        [ 1.        ,  2.56511373],\n",
       "        [ 1.        ,  3.77284205],\n",
       "        [ 1.        ,  1.68097838],\n",
       "        [ 1.        , -2.62247588],\n",
       "        [ 1.        ,  2.52371987],\n",
       "        [ 1.        ,  3.46571777],\n",
       "        [ 1.        , -2.24212009],\n",
       "        [ 1.        , -1.35269546],\n",
       "        [ 1.        ,  0.85549194],\n",
       "        [ 1.        ,  3.54076408],\n",
       "        [ 1.        ,  0.43260196],\n",
       "        [ 1.        ,  1.43135667],\n",
       "        [ 1.        ,  1.7756093 ],\n",
       "        [ 1.        ,  1.53265392],\n",
       "        [ 1.        , -4.86442531],\n",
       "        [ 1.        ,  3.52803087],\n",
       "        [ 1.        , -3.57548825],\n",
       "        [ 1.        ,  4.65235725],\n",
       "        [ 1.        , -0.68523996],\n",
       "        [ 1.        , -4.01613256],\n",
       "        [ 1.        ,  3.20041112],\n",
       "        [ 1.        ,  2.87919667],\n",
       "        [ 1.        ,  3.56374385],\n",
       "        [ 1.        , -4.22353375],\n",
       "        [ 1.        , -0.59392258],\n",
       "        [ 1.        ,  3.04448597],\n",
       "        [ 1.        ,  0.64196847],\n",
       "        [ 1.        , -3.73091906],\n",
       "        [ 1.        ,  4.02812751],\n",
       "        [ 1.        , -2.12094872],\n",
       "        [ 1.        , -2.74278662],\n",
       "        [ 1.        ,  3.1631865 ],\n",
       "        [ 1.        ,  4.07057889],\n",
       "        [ 1.        , -4.53807806],\n",
       "        [ 1.        , -3.42372156],\n",
       "        [ 1.        ,  1.95256711],\n",
       "        [ 1.        , -0.01754031],\n",
       "        [ 1.        ,  0.41065517],\n",
       "        [ 1.        ,  0.9471713 ],\n",
       "        [ 1.        , -1.0223648 ],\n",
       "        [ 1.        , -1.38733974],\n",
       "        [ 1.        , -2.46668717],\n",
       "        [ 1.        ,  0.39494899],\n",
       "        [ 1.        , -3.70189649],\n",
       "        [ 1.        ,  4.26209084],\n",
       "        [ 1.        ,  1.78114689],\n",
       "        [ 1.        , -4.55026732],\n",
       "        [ 1.        ,  3.43626317],\n",
       "        [ 1.        ,  1.47159115],\n",
       "        [ 1.        ,  3.12237425],\n",
       "        [ 1.        ,  0.33094749],\n",
       "        [ 1.        ,  3.77105364],\n",
       "        [ 1.        ,  0.53266013],\n",
       "        [ 1.        , -2.42229361],\n",
       "        [ 1.        ,  2.49946062],\n",
       "        [ 1.        ,  0.61029665],\n",
       "        [ 1.        , -1.43919818],\n",
       "        [ 1.        , -2.08054316],\n",
       "        [ 1.        ,  2.5037647 ],\n",
       "        [ 1.        ,  3.45169019],\n",
       "        [ 1.        ,  3.37605753],\n",
       "        [ 1.        , -0.22276573],\n",
       "        [ 1.        ,  0.60393662],\n",
       "        [ 1.        ,  2.97155523],\n",
       "        [ 1.        , -0.00601863],\n",
       "        [ 1.        , -1.16945764],\n",
       "        [ 1.        ,  4.65445498],\n",
       "        [ 1.        ,  2.45753206],\n",
       "        [ 1.        ,  4.99044061],\n",
       "        [ 1.        , -4.41770179],\n",
       "        [ 1.        ,  4.03547228],\n",
       "        [ 1.        ,  0.83516566],\n",
       "        [ 1.        ,  2.33827467],\n",
       "        [ 1.        , -0.93817028],\n",
       "        [ 1.        , -4.39790006],\n",
       "        [ 1.        , -0.16000674],\n",
       "        [ 1.        , -3.67346023],\n",
       "        [ 1.        , -2.95910392],\n",
       "        [ 1.        , -4.086006  ],\n",
       "        [ 1.        , -3.81030969],\n",
       "        [ 1.        , -3.03622377],\n",
       "        [ 1.        , -2.75742251],\n",
       "        [ 1.        , -4.46971493],\n",
       "        [ 1.        ,  2.39249612],\n",
       "        [ 1.        ,  3.85121876],\n",
       "        [ 1.        ,  4.79462925],\n",
       "        [ 1.        , -0.16496445],\n",
       "        [ 1.        , -3.16932752],\n",
       "        [ 1.        , -2.2029238 ],\n",
       "        [ 1.        , -0.73221719],\n",
       "        [ 1.        , -1.47849846],\n",
       "        [ 1.        ,  3.75040848],\n",
       "        [ 1.        , -0.12670655],\n",
       "        [ 1.        ,  1.41433302],\n",
       "        [ 1.        , -4.85516391],\n",
       "        [ 1.        ,  4.2088057 ],\n",
       "        [ 1.        , -1.03170824],\n",
       "        [ 1.        ,  1.83773584],\n",
       "        [ 1.        ,  2.12262174],\n",
       "        [ 1.        ,  0.36723097],\n",
       "        [ 1.        , -2.77617864],\n",
       "        [ 1.        , -2.36197673],\n",
       "        [ 1.        , -4.57811784],\n",
       "        [ 1.        , -4.64073781],\n",
       "        [ 1.        , -3.63310699],\n",
       "        [ 1.        , -2.79168971],\n",
       "        [ 1.        , -0.40367341],\n",
       "        [ 1.        , -4.21748392],\n",
       "        [ 1.        ,  1.99508358],\n",
       "        [ 1.        , -2.26530281],\n",
       "        [ 1.        ,  4.12989638],\n",
       "        [ 1.        , -4.13307794],\n",
       "        [ 1.        , -0.94116814],\n",
       "        [ 1.        ,  2.19515665],\n",
       "        [ 1.        ,  2.97145016],\n",
       "        [ 1.        , -4.59313342],\n",
       "        [ 1.        ,  0.27680189],\n",
       "        [ 1.        , -0.89448368],\n",
       "        [ 1.        ,  2.04343371],\n",
       "        [ 1.        ,  0.18503755],\n",
       "        [ 1.        ,  2.84607853],\n",
       "        [ 1.        , -1.356754  ],\n",
       "        [ 1.        ,  0.93313925],\n",
       "        [ 1.        , -2.47484967],\n",
       "        [ 1.        ,  2.48566019],\n",
       "        [ 1.        , -3.41509276],\n",
       "        [ 1.        , -2.86849715],\n",
       "        [ 1.        ,  1.01423724],\n",
       "        [ 1.        , -2.76294265],\n",
       "        [ 1.        ,  1.61764063],\n",
       "        [ 1.        ,  2.90365806],\n",
       "        [ 1.        , -2.9100816 ],\n",
       "        [ 1.        , -3.10068258],\n",
       "        [ 1.        ,  1.81124809],\n",
       "        [ 1.        ,  0.82597468],\n",
       "        [ 1.        ,  4.20632983],\n",
       "        [ 1.        , -2.39923541],\n",
       "        [ 1.        , -2.0272981 ],\n",
       "        [ 1.        , -1.51834118],\n",
       "        [ 1.        , -0.80070903],\n",
       "        [ 1.        ,  0.46930741],\n",
       "        [ 1.        , -1.59470754],\n",
       "        [ 1.        ,  1.15269943],\n",
       "        [ 1.        ,  4.20055273],\n",
       "        [ 1.        , -2.56950496],\n",
       "        [ 1.        ,  0.10655042],\n",
       "        [ 1.        , -4.34684992],\n",
       "        [ 1.        , -1.08058484],\n",
       "        [ 1.        ,  1.77927375],\n",
       "        [ 1.        ,  2.6298233 ],\n",
       "        [ 1.        , -4.9468969 ],\n",
       "        [ 1.        , -3.89467681],\n",
       "        [ 1.        , -0.13959709],\n",
       "        [ 1.        , -3.56538   ],\n",
       "        [ 1.        , -4.66003131],\n",
       "        [ 1.        , -2.00340285],\n",
       "        [ 1.        , -4.25704317],\n",
       "        [ 1.        ,  2.98599953],\n",
       "        [ 1.        ,  0.39508302],\n",
       "        [ 1.        ,  2.33831636],\n",
       "        [ 1.        , -0.24424906],\n",
       "        [ 1.        , -1.59677467],\n",
       "        [ 1.        ,  4.67221175],\n",
       "        [ 1.        , -0.83539577],\n",
       "        [ 1.        , -3.02634613],\n",
       "        [ 1.        ,  4.55058962],\n",
       "        [ 1.        , -1.26044267],\n",
       "        [ 1.        , -3.36453442],\n",
       "        [ 1.        ,  2.53300389],\n",
       "        [ 1.        ,  3.6291866 ],\n",
       "        [ 1.        ,  4.93396846],\n",
       "        [ 1.        ,  2.06509341],\n",
       "        [ 1.        , -1.1876887 ],\n",
       "        [ 1.        , -2.45284699],\n",
       "        [ 1.        ,  2.01026963],\n",
       "        [ 1.        ,  4.77655397],\n",
       "        [ 1.        ,  1.43755188],\n",
       "        [ 1.        , -3.55166876],\n",
       "        [ 1.        , -4.79785374],\n",
       "        [ 1.        , -3.56944782],\n",
       "        [ 1.        ,  4.94130024],\n",
       "        [ 1.        ,  0.97919708],\n",
       "        [ 1.        , -4.11872935],\n",
       "        [ 1.        , -0.10633027],\n",
       "        [ 1.        , -2.59097281],\n",
       "        [ 1.        ,  0.49643884],\n",
       "        [ 1.        , -0.54482547],\n",
       "        [ 1.        ,  4.17471221],\n",
       "        [ 1.        , -3.25833993],\n",
       "        [ 1.        ,  4.10131229],\n",
       "        [ 1.        , -3.06531015],\n",
       "        [ 1.        , -4.83554224],\n",
       "        [ 1.        , -0.88368081],\n",
       "        [ 1.        , -0.21047985],\n",
       "        [ 1.        ,  3.81734965],\n",
       "        [ 1.        , -0.05153333],\n",
       "        [ 1.        ,  1.17345297],\n",
       "        [ 1.        ,  0.7274609 ],\n",
       "        [ 1.        , -1.19341777],\n",
       "        [ 1.        ,  0.51814242],\n",
       "        [ 1.        ,  2.24384604],\n",
       "        [ 1.        ,  4.31655768],\n",
       "        [ 1.        , -0.37680454],\n",
       "        [ 1.        , -0.44134459],\n",
       "        [ 1.        , -3.50994598],\n",
       "        [ 1.        , -0.03155607],\n",
       "        [ 1.        , -4.90907948],\n",
       "        [ 1.        ,  2.9384581 ],\n",
       "        [ 1.        ,  1.69977648],\n",
       "        [ 1.        , -2.03291044],\n",
       "        [ 1.        ,  0.96320467],\n",
       "        [ 1.        ,  1.63689527],\n",
       "        [ 1.        ,  1.45867794],\n",
       "        [ 1.        , -4.72221042],\n",
       "        [ 1.        , -2.54040781],\n",
       "        [ 1.        , -1.54355086],\n",
       "        [ 1.        , -4.18963961],\n",
       "        [ 1.        ,  3.82477008],\n",
       "        [ 1.        ,  0.58932153],\n",
       "        [ 1.        ,  3.6925252 ],\n",
       "        [ 1.        , -4.48293367],\n",
       "        [ 1.        , -0.48932428],\n",
       "        [ 1.        , -0.24807706],\n",
       "        [ 1.        , -0.82767625],\n",
       "        [ 1.        , -4.31358974],\n",
       "        [ 1.        ,  0.86560718],\n",
       "        [ 1.        , -3.19413885],\n",
       "        [ 1.        , -2.84402208],\n",
       "        [ 1.        , -4.96016153],\n",
       "        [ 1.        , -4.43289536],\n",
       "        [ 1.        ,  4.45845011],\n",
       "        [ 1.        ,  0.31945412],\n",
       "        [ 1.        , -1.10828364],\n",
       "        [ 1.        ,  1.33167826],\n",
       "        [ 1.        ,  3.22120165],\n",
       "        [ 1.        , -0.69815782],\n",
       "        [ 1.        , -0.95518818],\n",
       "        [ 1.        ,  1.87086992],\n",
       "        [ 1.        ,  4.73839722],\n",
       "        [ 1.        ,  2.38471131],\n",
       "        [ 1.        , -2.69892573]])"
      ]
     },
     "execution_count": 11,
     "metadata": {},
     "output_type": "execute_result"
    }
   ],
   "source": [
    "X"
   ]
  },
  {
   "cell_type": "code",
   "execution_count": null,
   "metadata": {},
   "outputs": [],
   "source": []
  }
 ],
 "metadata": {
  "kernelspec": {
   "display_name": "Python 3",
   "language": "python",
   "name": "python3"
  },
  "language_info": {
   "codemirror_mode": {
    "name": "ipython",
    "version": 3
   },
   "file_extension": ".py",
   "mimetype": "text/x-python",
   "name": "python",
   "nbconvert_exporter": "python",
   "pygments_lexer": "ipython3",
   "version": "3.6.3"
  }
 },
 "nbformat": 4,
 "nbformat_minor": 2
}
