{
 "cells": [
  {
   "cell_type": "code",
   "execution_count": 1,
   "metadata": {},
   "outputs": [],
   "source": [
    "from sklearn.linear_model import LogisticRegression\n",
    "import pandas as pd\n",
    "import numpy as np"
   ]
  },
  {
   "cell_type": "code",
   "execution_count": 2,
   "metadata": {},
   "outputs": [],
   "source": [
    "df = pd.read_csv('ds3_train.csv')"
   ]
  },
  {
   "cell_type": "code",
   "execution_count": 3,
   "metadata": {},
   "outputs": [
    {
     "data": {
      "text/html": [
       "<div>\n",
       "<style scoped>\n",
       "    .dataframe tbody tr th:only-of-type {\n",
       "        vertical-align: middle;\n",
       "    }\n",
       "\n",
       "    .dataframe tbody tr th {\n",
       "        vertical-align: top;\n",
       "    }\n",
       "\n",
       "    .dataframe thead th {\n",
       "        text-align: right;\n",
       "    }\n",
       "</style>\n",
       "<table border=\"1\" class=\"dataframe\">\n",
       "  <thead>\n",
       "    <tr style=\"text-align: right;\">\n",
       "      <th></th>\n",
       "      <th>t</th>\n",
       "      <th>x_1</th>\n",
       "      <th>x_2</th>\n",
       "      <th>y</th>\n",
       "    </tr>\n",
       "  </thead>\n",
       "  <tbody>\n",
       "    <tr>\n",
       "      <th>0</th>\n",
       "      <td>0.0</td>\n",
       "      <td>-1.548319</td>\n",
       "      <td>-2.762987</td>\n",
       "      <td>0</td>\n",
       "    </tr>\n",
       "    <tr>\n",
       "      <th>1</th>\n",
       "      <td>0.0</td>\n",
       "      <td>-3.958870</td>\n",
       "      <td>-0.612780</td>\n",
       "      <td>0</td>\n",
       "    </tr>\n",
       "    <tr>\n",
       "      <th>2</th>\n",
       "      <td>0.0</td>\n",
       "      <td>-2.276375</td>\n",
       "      <td>0.614934</td>\n",
       "      <td>0</td>\n",
       "    </tr>\n",
       "    <tr>\n",
       "      <th>3</th>\n",
       "      <td>0.0</td>\n",
       "      <td>0.556287</td>\n",
       "      <td>-3.931406</td>\n",
       "      <td>0</td>\n",
       "    </tr>\n",
       "    <tr>\n",
       "      <th>4</th>\n",
       "      <td>0.0</td>\n",
       "      <td>-1.491000</td>\n",
       "      <td>-2.159297</td>\n",
       "      <td>0</td>\n",
       "    </tr>\n",
       "  </tbody>\n",
       "</table>\n",
       "</div>"
      ],
      "text/plain": [
       "     t       x_1       x_2  y\n",
       "0  0.0 -1.548319 -2.762987  0\n",
       "1  0.0 -3.958870 -0.612780  0\n",
       "2  0.0 -2.276375  0.614934  0\n",
       "3  0.0  0.556287 -3.931406  0\n",
       "4  0.0 -1.491000 -2.159297  0"
      ]
     },
     "execution_count": 3,
     "metadata": {},
     "output_type": "execute_result"
    }
   ],
   "source": [
    "df.head()"
   ]
  },
  {
   "cell_type": "code",
   "execution_count": 4,
   "metadata": {},
   "outputs": [],
   "source": [
    "X = df.drop(['t','y'], axis=1)\n",
    "Y = np.ravel(df.drop(['t','x_1','x_2'], axis=1))\n",
    "T = np.ravel(df.drop(['y','x_1','x_2'], axis=1))"
   ]
  },
  {
   "cell_type": "code",
   "execution_count": 5,
   "metadata": {},
   "outputs": [
    {
     "data": {
      "text/plain": [
       "(1250, 1)"
      ]
     },
     "execution_count": 5,
     "metadata": {},
     "output_type": "execute_result"
    }
   ],
   "source": [
    "intercept = np.matrix(np.ones(len(X))).T\n",
    "intercept.shape"
   ]
  },
  {
   "cell_type": "code",
   "execution_count": 6,
   "metadata": {},
   "outputs": [
    {
     "data": {
      "text/plain": [
       "matrix([[ 1.        , -1.54831899, -2.76298744],\n",
       "        [ 1.        , -3.95886967, -0.6127805 ],\n",
       "        [ 1.        , -2.27637464,  0.61493359],\n",
       "        ...,\n",
       "        [ 1.        ,  1.10777214,  1.62589313],\n",
       "        [ 1.        ,  1.46109326,  0.55889854],\n",
       "        [ 1.        ,  0.93522112,  2.9003691 ]])"
      ]
     },
     "execution_count": 6,
     "metadata": {},
     "output_type": "execute_result"
    }
   ],
   "source": [
    "X = np.append(intercept,X,1)\n",
    "X\n"
   ]
  },
  {
   "cell_type": "code",
   "execution_count": 9,
   "metadata": {},
   "outputs": [],
   "source": [
    "lm = LogisticRegression(penalty='none', solver='newton-cg', tol = 1e-5)"
   ]
  },
  {
   "cell_type": "code",
   "execution_count": 10,
   "metadata": {},
   "outputs": [
    {
     "data": {
      "text/plain": [
       "LogisticRegression(C=1.0, class_weight=None, dual=False, fit_intercept=True,\n",
       "                   intercept_scaling=1, l1_ratio=None, max_iter=100,\n",
       "                   multi_class='auto', n_jobs=None, penalty='none',\n",
       "                   random_state=None, solver='newton-cg', tol=1e-05, verbose=0,\n",
       "                   warm_start=False)"
      ]
     },
     "execution_count": 10,
     "metadata": {},
     "output_type": "execute_result"
    }
   ],
   "source": [
    "lm.fit(X,T)"
   ]
  },
  {
   "cell_type": "code",
   "execution_count": 12,
   "metadata": {},
   "outputs": [],
   "source": [
    "df_test = pd.read_csv('ds3_test.csv')"
   ]
  },
  {
   "cell_type": "code",
   "execution_count": 13,
   "metadata": {},
   "outputs": [
    {
     "data": {
      "text/html": [
       "<div>\n",
       "<style scoped>\n",
       "    .dataframe tbody tr th:only-of-type {\n",
       "        vertical-align: middle;\n",
       "    }\n",
       "\n",
       "    .dataframe tbody tr th {\n",
       "        vertical-align: top;\n",
       "    }\n",
       "\n",
       "    .dataframe thead th {\n",
       "        text-align: right;\n",
       "    }\n",
       "</style>\n",
       "<table border=\"1\" class=\"dataframe\">\n",
       "  <thead>\n",
       "    <tr style=\"text-align: right;\">\n",
       "      <th></th>\n",
       "      <th>t</th>\n",
       "      <th>x_1</th>\n",
       "      <th>x_2</th>\n",
       "      <th>y</th>\n",
       "    </tr>\n",
       "  </thead>\n",
       "  <tbody>\n",
       "    <tr>\n",
       "      <th>0</th>\n",
       "      <td>0.0</td>\n",
       "      <td>0.387421</td>\n",
       "      <td>-1.866760</td>\n",
       "      <td>0</td>\n",
       "    </tr>\n",
       "    <tr>\n",
       "      <th>1</th>\n",
       "      <td>0.0</td>\n",
       "      <td>-2.356436</td>\n",
       "      <td>-1.168553</td>\n",
       "      <td>0</td>\n",
       "    </tr>\n",
       "    <tr>\n",
       "      <th>2</th>\n",
       "      <td>0.0</td>\n",
       "      <td>-2.217217</td>\n",
       "      <td>-3.282972</td>\n",
       "      <td>0</td>\n",
       "    </tr>\n",
       "    <tr>\n",
       "      <th>3</th>\n",
       "      <td>0.0</td>\n",
       "      <td>-1.373251</td>\n",
       "      <td>-4.551377</td>\n",
       "      <td>0</td>\n",
       "    </tr>\n",
       "    <tr>\n",
       "      <th>4</th>\n",
       "      <td>0.0</td>\n",
       "      <td>-1.546461</td>\n",
       "      <td>-3.045420</td>\n",
       "      <td>0</td>\n",
       "    </tr>\n",
       "  </tbody>\n",
       "</table>\n",
       "</div>"
      ],
      "text/plain": [
       "     t       x_1       x_2  y\n",
       "0  0.0  0.387421 -1.866760  0\n",
       "1  0.0 -2.356436 -1.168553  0\n",
       "2  0.0 -2.217217 -3.282972  0\n",
       "3  0.0 -1.373251 -4.551377  0\n",
       "4  0.0 -1.546461 -3.045420  0"
      ]
     },
     "execution_count": 13,
     "metadata": {},
     "output_type": "execute_result"
    }
   ],
   "source": [
    "df_test.head()"
   ]
  },
  {
   "cell_type": "code",
   "execution_count": 14,
   "metadata": {},
   "outputs": [],
   "source": [
    "X_test = df_test.drop(['t','y'], axis=1)\n",
    "Y_test = df_test.drop(['t','x_1','x_2'], axis=1)"
   ]
  },
  {
   "cell_type": "code",
   "execution_count": 15,
   "metadata": {},
   "outputs": [
    {
     "data": {
      "text/plain": [
       "matrix([[ 1.        ,  0.38742108, -1.8667595 ],\n",
       "        [ 1.        , -2.3564358 , -1.16855338],\n",
       "        [ 1.        , -2.21721732, -3.28297204],\n",
       "        [ 1.        , -1.37325091, -4.55137674],\n",
       "        [ 1.        , -1.54646132, -3.04542002],\n",
       "        [ 1.        , -0.41793849, -3.77467152],\n",
       "        [ 1.        , -1.42750438, -2.41842099],\n",
       "        [ 1.        , -5.36092085, -1.00450348],\n",
       "        [ 1.        , -0.51239235, -4.72431863],\n",
       "        [ 1.        , -2.77308806, -3.60035128],\n",
       "        [ 1.        , -1.9876766 , -2.53817461],\n",
       "        [ 1.        , -2.02461029, -1.51369376],\n",
       "        [ 1.        , -1.91815921, -0.06751049],\n",
       "        [ 1.        , -1.5683174 , -2.52601316],\n",
       "        [ 1.        , -3.08106567, -2.67432881],\n",
       "        [ 1.        ,  1.20279424, -4.3747048 ],\n",
       "        [ 1.        , -3.59176468, -0.00738191],\n",
       "        [ 1.        , -2.07867059, -4.19003337],\n",
       "        [ 1.        , -1.1373787 , -1.96106878],\n",
       "        [ 1.        , -3.78157151, -1.97068903],\n",
       "        [ 1.        , -3.5275397 , -3.36019906],\n",
       "        [ 1.        , -0.40385716, -4.61780268],\n",
       "        [ 1.        , -1.39411728, -2.66371658],\n",
       "        [ 1.        , -1.382052  ,  0.27036427],\n",
       "        [ 1.        , -4.57791892, -2.16475067],\n",
       "        [ 1.        , -3.95514418, -4.84032525],\n",
       "        [ 1.        , -2.57207265, -2.4882689 ],\n",
       "        [ 1.        ,  0.20152292, -3.39400999],\n",
       "        [ 1.        , -3.60156879, -0.22581877],\n",
       "        [ 1.        ,  0.77845747,  1.32374953],\n",
       "        [ 1.        , -1.58610744, -0.1646117 ],\n",
       "        [ 1.        , -3.77998364,  0.74766666],\n",
       "        [ 1.        , -4.82598253,  0.18376581],\n",
       "        [ 1.        , -3.2891359 , -1.20476879],\n",
       "        [ 1.        ,  0.05735513, -4.08590149],\n",
       "        [ 1.        , -1.75158733, -0.95996262],\n",
       "        [ 1.        , -0.27317156, -1.58374433],\n",
       "        [ 1.        , -0.22349961,  1.19952903],\n",
       "        [ 1.        , -3.17990493, -0.32862546],\n",
       "        [ 1.        , -2.85734592, -2.45247134],\n",
       "        [ 1.        , -1.74027237, -1.07113877],\n",
       "        [ 1.        , -2.79242756, -1.87815363],\n",
       "        [ 1.        , -4.11241263, -0.85522756],\n",
       "        [ 1.        , -1.12950265, -1.58066633],\n",
       "        [ 1.        , -1.32879393, -4.84209796],\n",
       "        [ 1.        , -1.11804336, -1.4484075 ],\n",
       "        [ 1.        , -3.32881533, -2.649984  ],\n",
       "        [ 1.        , -4.58966682, -3.62903706],\n",
       "        [ 1.        , -2.15369079, -1.69652983],\n",
       "        [ 1.        ,  2.16389418, -1.67230101],\n",
       "        [ 1.        , -2.0196236 , -0.16177995],\n",
       "        [ 1.        , -1.24912253,  0.76748557],\n",
       "        [ 1.        , -2.63697092, -3.2377995 ],\n",
       "        [ 1.        , -0.74099743, -3.30757066],\n",
       "        [ 1.        , -2.23506355,  2.66833622],\n",
       "        [ 1.        , -4.57923672, -0.69559618],\n",
       "        [ 1.        , -1.56214981, -2.13165546],\n",
       "        [ 1.        , -2.13860705, -0.39329224],\n",
       "        [ 1.        , -1.06676347, -2.67134389],\n",
       "        [ 1.        , -1.75323339, -3.10886868],\n",
       "        [ 1.        , -3.18769974,  1.56475302],\n",
       "        [ 1.        , -3.35703849, -0.40444394],\n",
       "        [ 1.        ,  1.17576657, -1.05359292],\n",
       "        [ 1.        ,  1.92743089,  1.57562582],\n",
       "        [ 1.        ,  1.15991438,  1.2130505 ],\n",
       "        [ 1.        ,  1.06774703, -0.51463662],\n",
       "        [ 1.        ,  0.97694162, -0.40565711],\n",
       "        [ 1.        ,  0.89916228,  3.2047012 ],\n",
       "        [ 1.        ,  1.12813672,  0.67332724],\n",
       "        [ 1.        ,  1.97674517,  3.14001917],\n",
       "        [ 1.        ,  2.69446846,  3.55604262],\n",
       "        [ 1.        ,  1.64236543,  2.96847375],\n",
       "        [ 1.        ,  1.70180515,  2.03463086],\n",
       "        [ 1.        ,  1.4459832 ,  0.91376079],\n",
       "        [ 1.        ,  1.91682663,  1.09979742],\n",
       "        [ 1.        ,  0.97246622, -0.56516364],\n",
       "        [ 1.        ,  1.40180325,  1.11602689],\n",
       "        [ 1.        ,  1.02061109,  1.90929468],\n",
       "        [ 1.        ,  1.18801064,  3.96755714],\n",
       "        [ 1.        ,  0.38332161, -0.04303479],\n",
       "        [ 1.        ,  1.30407665,  2.17003727],\n",
       "        [ 1.        ,  2.75084901,  3.46133807],\n",
       "        [ 1.        ,  1.68381581,  2.78655306],\n",
       "        [ 1.        ,  1.52940501,  1.58738334],\n",
       "        [ 1.        ,  0.73695268,  2.01651299],\n",
       "        [ 1.        ,  0.92269661, -0.82833085],\n",
       "        [ 1.        ,  0.7601489 ,  3.1553705 ],\n",
       "        [ 1.        ,  1.57371282,  2.14820626],\n",
       "        [ 1.        ,  2.03531683,  3.88851011],\n",
       "        [ 1.        ,  1.57119351,  0.73137344],\n",
       "        [ 1.        ,  1.0965952 , -0.57960779],\n",
       "        [ 1.        ,  1.34763644,  2.06605756],\n",
       "        [ 1.        ,  1.12798703,  0.93211606],\n",
       "        [ 1.        ,  1.42210846,  2.36597793],\n",
       "        [ 1.        ,  1.33457139,  0.29308238],\n",
       "        [ 1.        ,  1.69618827,  4.68584507],\n",
       "        [ 1.        ,  1.57675545,  3.07813256],\n",
       "        [ 1.        ,  0.87769467,  1.00278949],\n",
       "        [ 1.        ,  1.22941093,  5.36016631],\n",
       "        [ 1.        ,  1.79649613,  3.2731126 ],\n",
       "        [ 1.        ,  2.16548622,  3.68052891],\n",
       "        [ 1.        ,  1.47541146,  1.06238065],\n",
       "        [ 1.        ,  1.29708724,  1.22255098],\n",
       "        [ 1.        ,  1.77992231,  3.21122661],\n",
       "        [ 1.        ,  0.44839478,  0.47004869],\n",
       "        [ 1.        ,  1.24193828,  1.80162464],\n",
       "        [ 1.        ,  1.47666152,  0.53958245],\n",
       "        [ 1.        ,  1.63586093,  2.82766168],\n",
       "        [ 1.        ,  1.1394222 ,  0.40376397],\n",
       "        [ 1.        ,  0.60846521,  1.62175576],\n",
       "        [ 1.        ,  1.72830744,  3.43541844],\n",
       "        [ 1.        ,  0.51844092,  1.36422996],\n",
       "        [ 1.        ,  1.73994347,  1.00963974],\n",
       "        [ 1.        ,  0.7078269 ,  1.27263408],\n",
       "        [ 1.        ,  0.56442022, -0.41689814],\n",
       "        [ 1.        ,  1.97991305,  0.67199118],\n",
       "        [ 1.        ,  2.19642781,  1.96377541],\n",
       "        [ 1.        ,  1.2099517 , -0.07720054],\n",
       "        [ 1.        ,  1.65480921,  3.45398821],\n",
       "        [ 1.        ,  1.40562185,  1.40968462],\n",
       "        [ 1.        ,  1.30348816,  0.70930772],\n",
       "        [ 1.        ,  1.11213352,  2.38024806],\n",
       "        [ 1.        ,  1.0487096 ,  0.37468711],\n",
       "        [ 1.        ,  1.37420353,  3.8767232 ]])"
      ]
     },
     "execution_count": 15,
     "metadata": {},
     "output_type": "execute_result"
    }
   ],
   "source": [
    "X_test.shape\n",
    "intercept = np.matrix(np.ones(len(X_test))).T\n",
    "X_test = np.append(intercept,X_test,1)\n",
    "X_test\n"
   ]
  },
  {
   "cell_type": "code",
   "execution_count": 16,
   "metadata": {},
   "outputs": [],
   "source": [
    "y_preds_T = predict(X_test)"
   ]
  },
  {
   "cell_type": "code",
   "execution_count": null,
   "metadata": {},
   "outputs": [],
   "source": [
    "y_preds_T"
   ]
  },
  {
   "cell_type": "code",
   "execution_count": 11,
   "metadata": {},
   "outputs": [
    {
     "data": {
      "text/plain": [
       "array([[-0.48557083,  2.73208765,  1.0740347 ]])"
      ]
     },
     "execution_count": 11,
     "metadata": {},
     "output_type": "execute_result"
    }
   ],
   "source": [
    "lm.coef_"
   ]
  },
  {
   "cell_type": "code",
   "execution_count": null,
   "metadata": {},
   "outputs": [],
   "source": [
    "Y = np.ravel(Y)"
   ]
  },
  {
   "cell_type": "code",
   "execution_count": 17,
   "metadata": {},
   "outputs": [
    {
     "data": {
      "text/plain": [
       "array([[-1.45803726,  0.78596649,  0.09282768]])"
      ]
     },
     "execution_count": 17,
     "metadata": {},
     "output_type": "execute_result"
    }
   ],
   "source": [
    "lm.fit(X,Y)\n",
    "lm.coef_ "
   ]
  },
  {
   "cell_type": "code",
   "execution_count": 18,
   "metadata": {},
   "outputs": [],
   "source": [
    "def predict(x):\n",
    "    g = lambda x : 1 / (1+np.exp(-x))\n",
    "    preds = g(x*theta)\n",
    "    return preds"
   ]
  },
  {
   "cell_type": "code",
   "execution_count": 24,
   "metadata": {},
   "outputs": [],
   "source": [
    "theta = lm.coef_\n",
    "theta = theta.T"
   ]
  },
  {
   "cell_type": "code",
   "execution_count": 26,
   "metadata": {},
   "outputs": [
    {
     "data": {
      "text/plain": [
       "array([0.20968516, 0.03171948, 0.02915766, 0.04927255, 0.04944414,\n",
       "       0.10556013, 0.05708126, 0.00312626, 0.09118029, 0.01849106,\n",
       "       0.03711555, 0.0395504 , 0.048711  , 0.05092344, 0.01586101,\n",
       "       0.28520756, 0.01363039, 0.02986483, 0.07350738, 0.00982297,\n",
       "       0.01053476, 0.09938154, 0.05726836, 0.07452403, 0.0051835 ,\n",
       "       0.00658755, 0.02387916, 0.1659364 , 0.01325925, 0.32666338,\n",
       "       0.06180665, 0.01262247, 0.00530367, 0.01544319, 0.14279797,\n",
       "       0.0509877 , 0.13946312, 0.17911559, 0.01820222, 0.01923743,\n",
       "       0.05091869, 0.02130796, 0.00841203, 0.07638436, 0.04964653,\n",
       "       0.07789954, 0.01312057, 0.00448627, 0.03528921, 0.52185488,\n",
       "       0.04477011, 0.08560165, 0.0212241 , 0.08726704, 0.04893792,\n",
       "       0.00593029, 0.05296467, 0.04010129, 0.07280007, 0.04210349,\n",
       "       0.02149491, 0.01576456, 0.34711911, 0.55060626, 0.39322436,\n",
       "       0.33925938, 0.32566669, 0.38844796, 0.3754617 , 0.59558413,\n",
       "       0.72905313, 0.52706439, 0.517092  , 0.44109466, 0.53758295,\n",
       "       0.32165549, 0.43716675, 0.38257433, 0.46107851, 0.23853028,\n",
       "       0.44234825, 0.7360126 , 0.53097399, 0.47287091, 0.33367081,\n",
       "       0.30795002, 0.36177233, 0.49456554, 0.62307366, 0.46126773,\n",
       "       0.34299994, 0.44842093, 0.38108368, 0.46986671, 0.40566807,\n",
       "       0.57690626, 0.51673764, 0.33735312, 0.50145258, 0.56409146,\n",
       "       0.64235893, 0.45021676, 0.41943734, 0.55947035, 0.25693117,\n",
       "       0.4219741 , 0.43847769, 0.52252971, 0.37168168, 0.30380153,\n",
       "       0.55459556, 0.28415948, 0.50080563, 0.31355026, 0.25862612,\n",
       "       0.54003597, 0.61077573, 0.37420429, 0.54071293, 0.44462611,\n",
       "       0.4090979 , 0.41023725, 0.3545713 , 0.4954771 ])"
      ]
     },
     "execution_count": 26,
     "metadata": {},
     "output_type": "execute_result"
    }
   ],
   "source": [
    "y_preds_Y = predict(X_test)\n",
    "y_preds_Y = np.ravel(y_preds_Y)\n",
    "y_preds_Y"
   ]
  },
  {
   "cell_type": "code",
   "execution_count": 27,
   "metadata": {},
   "outputs": [],
   "source": [
    "df_valid = pd.read_csv('ds3_valid.csv')"
   ]
  },
  {
   "cell_type": "code",
   "execution_count": 43,
   "metadata": {},
   "outputs": [],
   "source": [
    "X_valid = df_valid.drop(['t','y'], axis=1)\n",
    "Y_valid = np.ravel(df_valid.drop(['t','x_1','x_2'], axis=1))\n",
    "T_valid = np.ravel(df_valid.drop(['y','x_1','x_2'], axis=1))"
   ]
  },
  {
   "cell_type": "code",
   "execution_count": 29,
   "metadata": {},
   "outputs": [],
   "source": [
    "intercept = np.matrix(np.ones(len(X_valid))).T\n",
    "X_valid = np.append(intercept,X_valid,1)\n"
   ]
  },
  {
   "cell_type": "code",
   "execution_count": 30,
   "metadata": {},
   "outputs": [
    {
     "data": {
      "text/plain": [
       "array([0.01756493, 0.01028672, 0.00503247, 0.01087053, 0.039617  ,\n",
       "       0.02127423, 0.13675747, 0.07547288, 0.06127333, 0.20045667,\n",
       "       0.03505211, 0.05891127, 0.08867727, 0.01233234, 0.0487782 ,\n",
       "       0.05267265, 0.05216302, 0.03835959, 0.47759758, 0.20792446,\n",
       "       0.05356524, 0.26839237, 0.35813998, 0.00978507, 0.06795999,\n",
       "       0.02479989, 0.05227718, 0.37613089, 0.03482063, 0.00836877,\n",
       "       0.13989069, 0.20458153, 0.06175378, 0.00255045, 0.03712485,\n",
       "       0.1333369 , 0.09542992, 0.55796656, 0.00577101, 0.0117803 ,\n",
       "       0.05037099, 0.00980377, 0.00337156, 0.01857936, 0.20718049,\n",
       "       0.06358856, 0.0196729 , 0.01357447, 0.00796922, 0.02343765,\n",
       "       0.0302361 , 0.01201107, 0.02167912, 0.01566912, 0.06559294,\n",
       "       0.01471542, 0.0368892 , 0.10286178, 0.07352648, 0.10174168,\n",
       "       0.04319814, 0.00526492, 0.57749284, 0.68433292, 0.56240604,\n",
       "       0.58944535, 0.52372178, 0.56487001, 0.46722495, 0.68061935,\n",
       "       0.24349346, 0.34948051, 0.37825366, 0.52083088, 0.31662192,\n",
       "       0.38700563, 0.63436229, 0.36610596, 0.37874648, 0.51781047,\n",
       "       0.36331651, 0.46885433, 0.56154761, 0.61516852, 0.62661894,\n",
       "       0.39261986, 0.47613019, 0.37746351, 0.65834657, 0.46758075,\n",
       "       0.54172691, 0.48276091, 0.47402618, 0.53868091, 0.42558908,\n",
       "       0.48210318, 0.37337497, 0.48346011, 0.49921397, 0.29090614,\n",
       "       0.62115182, 0.35081731, 0.29998699, 0.63820372, 0.40657279,\n",
       "       0.49168286, 0.33704213, 0.51145604, 0.45121395, 0.45600135,\n",
       "       0.35271217, 0.45308838, 0.50932864, 0.36123899, 0.46376806,\n",
       "       0.41556039, 0.50248238, 0.55843832, 0.59735225, 0.35374785,\n",
       "       0.25257507, 0.37217205, 0.38768481, 0.48827836])"
      ]
     },
     "execution_count": 30,
     "metadata": {},
     "output_type": "execute_result"
    }
   ],
   "source": [
    "y_preds_val = predict(X_valid)\n",
    "y_preds_val = np.ravel(y_preds_val)\n",
    "y_preds_val"
   ]
  },
  {
   "cell_type": "code",
   "execution_count": 31,
   "metadata": {},
   "outputs": [],
   "source": [
    "alpha = y_preds_val[Y_valid == 1].sum() / (Y_valid == 1).sum()"
   ]
  },
  {
   "cell_type": "code",
   "execution_count": 32,
   "metadata": {},
   "outputs": [
    {
     "data": {
      "text/plain": [
       "0.45705542621504375"
      ]
     },
     "execution_count": 32,
     "metadata": {},
     "output_type": "execute_result"
    }
   ],
   "source": [
    "alpha"
   ]
  },
  {
   "cell_type": "code",
   "execution_count": 38,
   "metadata": {},
   "outputs": [],
   "source": [
    "lm.coef_ = np.ravel(lm.coef_)\n",
    "lm.coef_ = list(lm.coef_)"
   ]
  },
  {
   "cell_type": "code",
   "execution_count": 39,
   "metadata": {},
   "outputs": [],
   "source": [
    "correction = 1 + (np.log(2 / alpha - 1) / lm.coef_[0])"
   ]
  },
  {
   "cell_type": "code",
   "execution_count": 40,
   "metadata": {},
   "outputs": [
    {
     "data": {
      "text/plain": [
       "0.1655609216394235"
      ]
     },
     "execution_count": 40,
     "metadata": {},
     "output_type": "execute_result"
    }
   ],
   "source": [
    "correction"
   ]
  },
  {
   "cell_type": "code",
   "execution_count": 36,
   "metadata": {},
   "outputs": [
    {
     "data": {
      "text/plain": [
       "array([0, 0, 0, 0, 0, 0, 0, 0, 0, 0, 0, 0, 0, 0, 0, 0, 0, 0, 0, 0, 0, 0,\n",
       "       0, 0, 0, 0, 0, 0, 0, 0, 0, 0, 0, 0, 0, 0, 0, 0, 0, 0, 0, 0, 0, 0,\n",
       "       0, 0, 0, 0, 0, 0, 0, 0, 0, 0, 0, 0, 0, 0, 0, 0, 0, 0, 0, 0, 0, 0,\n",
       "       0, 0, 0, 0, 0, 0, 0, 0, 0, 0, 0, 0, 0, 0, 0, 0, 0, 0, 0, 0, 0, 0,\n",
       "       0, 0, 0, 0, 0, 0, 0, 0, 0, 0, 0, 0, 0, 0, 0, 0, 0, 0, 0, 0, 0, 0,\n",
       "       0, 0, 0, 0, 0, 0, 0, 0, 0, 0, 0, 0, 0, 0], dtype=int64)"
      ]
     },
     "execution_count": 36,
     "metadata": {},
     "output_type": "execute_result"
    }
   ],
   "source": [
    "lm.predict(X_valid)"
   ]
  },
  {
   "cell_type": "code",
   "execution_count": 44,
   "metadata": {},
   "outputs": [],
   "source": [
    "pos = X_valid[T_valid==1]\n",
    "neg = X_valid[T_valid==0]"
   ]
  },
  {
   "cell_type": "code",
   "execution_count": 58,
   "metadata": {},
   "outputs": [],
   "source": [
    "neg = neg.values"
   ]
  },
  {
   "cell_type": "code",
   "execution_count": 59,
   "metadata": {},
   "outputs": [],
   "source": [
    "xc = (np.ravel(pos[:,0]),np.ravel(pos[:,1]))\n",
    "yc = (np.ravel(neg[:,0]),np.ravel(neg[:,1]))"
   ]
  },
  {
   "cell_type": "code",
   "execution_count": 87,
   "metadata": {},
   "outputs": [
    {
     "data": {
      "image/png": "[encoded data removed]",
      "text/plain": [
       "<Figure size 432x288 with 1 Axes>"
      ]
     },
     "metadata": {},
     "output_type": "display_data"
    }
   ],
   "source": [
    "import matplotlib.pyplot as plt\n",
    "plt.scatter(*xc)\n",
    "plt.scatter(*yc)\n",
    "plt.plot(x_values, y_values, label='Decision Boundary')\n",
    "plt.xlim(-5,3)\n",
    "plt.ylim((-5,14))\n",
    "plt.show()"
   ]
  },
  {
   "cell_type": "code",
   "execution_count": 85,
   "metadata": {},
   "outputs": [],
   "source": [
    "theta_T = [-0.48557083,  2.73208765,  1.0740347 ]\n",
    "#theta_T = [-6.20669493,  2.45177926, -0.02939447]"
   ]
  },
  {
   "cell_type": "code",
   "execution_count": 86,
   "metadata": {},
   "outputs": [],
   "source": [
    "x_values = [np.min(X_valid[:, 0] - 5), np.max(X_valid[:, 1] + 5)]\n",
    "y_values = - (theta_T[0] + np.dot(theta_T[1], x_values)) / theta_T[2]"
   ]
  },
  {
   "cell_type": "code",
   "execution_count": 68,
   "metadata": {},
   "outputs": [],
   "source": [
    "X_valid = np.array(X_valid)"
   ]
  },
  {
   "cell_type": "code",
   "execution_count": 71,
   "metadata": {},
   "outputs": [],
   "source": [
    "theta_Y = [-1.45803726,  0.78596649,  0.09282768]"
   ]
  },
  {
   "cell_type": "code",
   "execution_count": 72,
   "metadata": {},
   "outputs": [],
   "source": [
    "x_values = [np.min(X_valid[:, 0] - 5), np.max(X_valid[:, 1] + 5)]\n",
    "y_values = - (theta_Y[0] + np.dot(theta_Y[1], x_values)) / theta_Y[2]"
   ]
  },
  {
   "cell_type": "code",
   "execution_count": 73,
   "metadata": {},
   "outputs": [
    {
     "data": {
      "image/png": "[encoded data removed]",
      "text/plain": [
       "<Figure size 432x288 with 1 Axes>"
      ]
     },
     "metadata": {},
     "output_type": "display_data"
    }
   ],
   "source": [
    "plt.scatter(*xc)\n",
    "plt.scatter(*yc)\n",
    "plt.plot(x_values, y_values, label='Decision Boundary')\n",
    "plt.xlim(-5,3)\n",
    "plt.ylim((-5,14))\n",
    "plt.show()"
   ]
  },
  {
   "cell_type": "code",
   "execution_count": 91,
   "metadata": {},
   "outputs": [],
   "source": [
    "theta_corrected = theta_Y +alpha"
   ]
  },
  {
   "cell_type": "code",
   "execution_count": 92,
   "metadata": {},
   "outputs": [],
   "source": [
    "x_values = [np.min(X_valid[:, 0] - 5), np.max(X_valid[:, 1] + 5)]\n",
    "y_values = - (theta_corrected[0] + np.dot(theta_corrected[1], x_values)) / theta_corrected[2]"
   ]
  },
  {
   "cell_type": "code",
   "execution_count": 93,
   "metadata": {},
   "outputs": [
    {
     "data": {
      "image/png": "[encoded data removed]",
      "text/plain": [
       "<Figure size 432x288 with 1 Axes>"
      ]
     },
     "metadata": {},
     "output_type": "display_data"
    }
   ],
   "source": [
    "plt.scatter(*xc)\n",
    "plt.scatter(*yc)\n",
    "plt.plot(x_values, y_values, label='Decision Boundary')\n",
    "plt.xlim(-5,3)\n",
    "plt.ylim((-10,40))\n",
    "plt.show()"
   ]
  },
  {
   "cell_type": "code",
   "execution_count": null,
   "metadata": {},
   "outputs": [],
   "source": []
  }
 ],
 "metadata": {
  "kernelspec": {
   "display_name": "Python 3",
   "language": "python",
   "name": "python3"
  },
  "language_info": {
   "codemirror_mode": {
    "name": "ipython",
    "version": 3
   },
   "file_extension": ".py",
   "mimetype": "text/x-python",
   "name": "python",
   "nbconvert_exporter": "python",
   "pygments_lexer": "ipython3",
   "version": "3.6.3"
  }
 },
 "nbformat": 4,
 "nbformat_minor": 2
}
