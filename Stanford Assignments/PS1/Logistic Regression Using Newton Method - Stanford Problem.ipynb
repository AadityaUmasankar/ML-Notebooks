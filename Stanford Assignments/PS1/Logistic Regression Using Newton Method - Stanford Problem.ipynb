{
 "cells": [
  {
   "cell_type": "code",
   "execution_count": 1,
   "metadata": {},
   "outputs": [],
   "source": [
    "import numpy as np\n",
    "from numpy import genfromtxt"
   ]
  },
  {
   "cell_type": "code",
   "execution_count": 2,
   "metadata": {},
   "outputs": [],
   "source": [
    "data = genfromtxt('ds1_train.csv', delimiter = ',')"
   ]
  },
  {
   "cell_type": "code",
   "execution_count": 3,
   "metadata": {},
   "outputs": [],
   "source": [
    "X= data[:,[0,1]]\n",
    "Y = data[:,[2]]"
   ]
  },
  {
   "cell_type": "code",
   "execution_count": 4,
   "metadata": {},
   "outputs": [],
   "source": [
    "X = np.delete(X,0,0)\n",
    "Y = np.delete(Y,0,0)"
   ]
  },
  {
   "cell_type": "code",
   "execution_count": 5,
   "metadata": {},
   "outputs": [],
   "source": [
    "intercept = np.matrix(np.ones(len(X))).T"
   ]
  },
  {
   "cell_type": "code",
   "execution_count": 6,
   "metadata": {},
   "outputs": [
    {
     "data": {
      "text/plain": [
       "(800, 1)"
      ]
     },
     "execution_count": 6,
     "metadata": {},
     "output_type": "execute_result"
    }
   ],
   "source": [
    "intercept.shape"
   ]
  },
  {
   "cell_type": "code",
   "execution_count": 7,
   "metadata": {},
   "outputs": [],
   "source": [
    "X = np.append(intercept,X,1)"
   ]
  },
  {
   "cell_type": "code",
   "execution_count": 8,
   "metadata": {},
   "outputs": [
    {
     "data": {
      "text/plain": [
       "(800, 3)"
      ]
     },
     "execution_count": 8,
     "metadata": {},
     "output_type": "execute_result"
    }
   ],
   "source": [
    "X.shape"
   ]
  },
  {
   "cell_type": "code",
   "execution_count": 9,
   "metadata": {},
   "outputs": [],
   "source": [
    "g = lambda x : 1 / (1+np.exp(-x))"
   ]
  },
  {
   "cell_type": "code",
   "execution_count": 10,
   "metadata": {},
   "outputs": [],
   "source": [
    "m,n = X.shape"
   ]
  },
  {
   "cell_type": "code",
   "execution_count": 11,
   "metadata": {},
   "outputs": [],
   "source": [
    "theta = np.matrix(np.zeros(n)).T"
   ]
  },
  {
   "cell_type": "code",
   "execution_count": 12,
   "metadata": {},
   "outputs": [
    {
     "data": {
      "text/plain": [
       "matrix([[0.],\n",
       "        [0.],\n",
       "        [0.]])"
      ]
     },
     "execution_count": 12,
     "metadata": {},
     "output_type": "execute_result"
    }
   ],
   "source": [
    "theta"
   ]
  },
  {
   "cell_type": "code",
   "execution_count": 13,
   "metadata": {},
   "outputs": [],
   "source": [
    " def J(theta):\n",
    "        return -(1/m)*(X.T*(Y - g(X*theta)))"
   ]
  },
  {
   "cell_type": "code",
   "execution_count": 14,
   "metadata": {},
   "outputs": [
    {
     "name": "stdout",
     "output_type": "stream",
     "text": [
      "iter = 100000\n",
      "[[-15.75132678]\n",
      " [  6.60161154]\n",
      " [ -0.14764632]]\n",
      "norm = 11.262576754000428\n"
     ]
    }
   ],
   "source": [
    "TOL = np.power(10.,-1)\n",
    "lam = 0.01\n",
    "counter = 0\n",
    "\n",
    "while np.linalg.norm(J(theta)) > TOL and counter < 100000:\n",
    "  counter += 1\n",
    "  theta = theta - lam*J(theta)\n",
    "  \n",
    "    \n",
    "print('iter =',counter)\n",
    "print(theta)\n",
    "print('norm =',np.linalg.norm(J(theta)))"
   ]
  },
  {
   "cell_type": "code",
   "execution_count": 15,
   "metadata": {},
   "outputs": [],
   "source": [
    "def newton(theta):\n",
    "    return (X.T*(np.diag(np.ravel(np.multiply(g(X*theta),(1-g(X*theta))))))*X)\n"
   ]
  },
  {
   "cell_type": "code",
   "execution_count": 16,
   "metadata": {},
   "outputs": [
    {
     "name": "stdout",
     "output_type": "stream",
     "text": [
      "iter = 11140\n",
      "[[-6.26018454]\n",
      " [ 2.47707243]\n",
      " [-0.02991252]]\n",
      "norm = 9.990582495210431e-06\n"
     ]
    }
   ],
   "source": [
    "TOL = np.power(10.,-5)\n",
    "lam = 0.01\n",
    "counter = 0\n",
    "\n",
    "while np.linalg.norm(J(theta)) > TOL:\n",
    "    counter += 1\n",
    "    theta -= np.linalg.inv(newton(theta))*J(theta)\n",
    "    \n",
    "print('iter =',counter)\n",
    "print(theta)\n",
    "print('norm =',np.linalg.norm(J(theta)))\n",
    "    "
   ]
  },
  {
   "cell_type": "code",
   "execution_count": null,
   "metadata": {},
   "outputs": [],
   "source": [
    "newton(theta)"
   ]
  },
  {
   "cell_type": "code",
   "execution_count": 17,
   "metadata": {},
   "outputs": [],
   "source": [
    "def predict(x):\n",
    "    g = lambda x : 1 / (1+np.exp(-x))\n",
    "    preds = g(x*theta)\n",
    "    return preds>0.5"
   ]
  },
  {
   "cell_type": "code",
   "execution_count": 18,
   "metadata": {},
   "outputs": [],
   "source": [
    "val_data = genfromtxt('ds1_valid.csv', delimiter = ',')"
   ]
  },
  {
   "cell_type": "code",
   "execution_count": 35,
   "metadata": {},
   "outputs": [],
   "source": [
    "X_val= val_data[:,[0,1]]\n",
    "Y_val = val_data[:,[2]]"
   ]
  },
  {
   "cell_type": "code",
   "execution_count": 36,
   "metadata": {},
   "outputs": [],
   "source": [
    "X_val = np.delete(X_val,0,0)\n",
    "Y_val = np.delete(Y_val,0,0)\n",
    "intercept_val = np.matrix(np.ones(len(X_val))).T\n",
    "X_val = np.append(intercept_val,X_val,1)"
   ]
  },
  {
   "cell_type": "code",
   "execution_count": 21,
   "metadata": {},
   "outputs": [],
   "source": [
    "y_preds = predict(X_val)"
   ]
  },
  {
   "cell_type": "code",
   "execution_count": 22,
   "metadata": {},
   "outputs": [],
   "source": [
    "y_preds = y_preds*1\n"
   ]
  },
  {
   "cell_type": "code",
   "execution_count": 23,
   "metadata": {},
   "outputs": [],
   "source": [
    "from sklearn.linear_model import LogisticRegression"
   ]
  },
  {
   "cell_type": "code",
   "execution_count": 24,
   "metadata": {},
   "outputs": [],
   "source": [
    "lm = LogisticRegression()"
   ]
  },
  {
   "cell_type": "code",
   "execution_count": 25,
   "metadata": {},
   "outputs": [],
   "source": [
    "Y =np.ravel(Y)"
   ]
  },
  {
   "cell_type": "code",
   "execution_count": 26,
   "metadata": {},
   "outputs": [
    {
     "data": {
      "text/plain": [
       "LogisticRegression(C=1.0, class_weight=None, dual=False, fit_intercept=True,\n",
       "                   intercept_scaling=1, l1_ratio=None, max_iter=100,\n",
       "                   multi_class='auto', n_jobs=None, penalty='l2',\n",
       "                   random_state=None, solver='lbfgs', tol=0.0001, verbose=0,\n",
       "                   warm_start=False)"
      ]
     },
     "execution_count": 26,
     "metadata": {},
     "output_type": "execute_result"
    }
   ],
   "source": [
    "lm.fit(X,Y)"
   ]
  },
  {
   "cell_type": "code",
   "execution_count": 27,
   "metadata": {},
   "outputs": [],
   "source": [
    "hj = lm.predict(X_val)"
   ]
  },
  {
   "cell_type": "code",
   "execution_count": 28,
   "metadata": {},
   "outputs": [
    {
     "data": {
      "text/plain": [
       "array([[ 1.17321014e-04,  2.40345530e+00, -2.92819547e-02]])"
      ]
     },
     "execution_count": 28,
     "metadata": {},
     "output_type": "execute_result"
    }
   ],
   "source": [
    "lm.coef_"
   ]
  },
  {
   "cell_type": "code",
   "execution_count": 29,
   "metadata": {},
   "outputs": [],
   "source": [
    "Y_val = np.ravel(Y_val)"
   ]
  },
  {
   "cell_type": "code",
   "execution_count": 30,
   "metadata": {},
   "outputs": [],
   "source": [
    "y_preds = np.ravel(np.array([y_preds]))"
   ]
  },
  {
   "cell_type": "code",
   "execution_count": 31,
   "metadata": {},
   "outputs": [],
   "source": [
    "from sklearn.metrics import accuracy_score"
   ]
  },
  {
   "cell_type": "code",
   "execution_count": 32,
   "metadata": {},
   "outputs": [
    {
     "data": {
      "text/plain": [
       "0.9"
      ]
     },
     "execution_count": 32,
     "metadata": {},
     "output_type": "execute_result"
    }
   ],
   "source": [
    "accuracy_score(Y_val,y_preds)"
   ]
  },
  {
   "cell_type": "code",
   "execution_count": 45,
   "metadata": {},
   "outputs": [
    {
     "data": {
      "text/plain": [
       "matrix([[145.22786739],\n",
       "        [  5.90000946],\n",
       "        [144.62026007],\n",
       "        [  6.36245193],\n",
       "        [ 46.06234247],\n",
       "        [ 28.32804523],\n",
       "        [ 39.40927091],\n",
       "        [ 32.62474478],\n",
       "        [ 23.77943576],\n",
       "        [ 56.94344021],\n",
       "        [ 31.08259887],\n",
       "        [ 40.73799415],\n",
       "        [  9.35476925],\n",
       "        [ 28.83062783],\n",
       "        [ 60.35874266],\n",
       "        [ 14.79743857],\n",
       "        [ 33.45128545],\n",
       "        [118.53310543],\n",
       "        [ 11.79889191],\n",
       "        [ 53.85444414],\n",
       "        [ 50.57408498],\n",
       "        [ 10.92878994],\n",
       "        [ 21.44129403],\n",
       "        [ 11.42170765],\n",
       "        [ 30.60082006],\n",
       "        [ 81.44110258],\n",
       "        [ 11.99180792],\n",
       "        [ 10.22857542],\n",
       "        [ 59.04179563],\n",
       "        [  8.75526635],\n",
       "        [  8.20351446],\n",
       "        [127.45548967],\n",
       "        [ 64.90668808],\n",
       "        [ 40.51017476],\n",
       "        [ 14.51402479],\n",
       "        [ 36.41478534],\n",
       "        [ 27.37073056],\n",
       "        [ 22.30134502],\n",
       "        [ 27.67969227],\n",
       "        [162.45615239],\n",
       "        [  7.70829009],\n",
       "        [ 31.8704608 ],\n",
       "        [ 31.75236931],\n",
       "        [ 39.18879243],\n",
       "        [ 36.64774459],\n",
       "        [ 11.70828537],\n",
       "        [  7.32039001],\n",
       "        [ 26.39669758],\n",
       "        [102.07871299],\n",
       "        [ 12.76163412]])"
      ]
     },
     "execution_count": 45,
     "metadata": {},
     "output_type": "execute_result"
    }
   ],
   "source": [
    "pos = X_val[Y_val[:,0]==1]\n",
    "neg = X_val[Y_val[:,0]==0]\n"
   ]
  },
  {
   "cell_type": "code",
   "execution_count": 46,
   "metadata": {},
   "outputs": [],
   "source": [
    "import matplotlib.pyplot as plt"
   ]
  },
  {
   "cell_type": "code",
   "execution_count": 59,
   "metadata": {},
   "outputs": [],
   "source": [
    "xc = (np.ravel(pos[:,1]),np.ravel(pos[:,2]))\n",
    "yc = (np.ravel(neg[:,1]),np.ravel(neg[:,2]))"
   ]
  },
  {
   "cell_type": "code",
   "execution_count": 66,
   "metadata": {},
   "outputs": [
    {
     "data": {
      "image/png": "[encoded data removed]",
      "text/plain": [
       "<Figure size 432x288 with 1 Axes>"
      ]
     },
     "metadata": {},
     "output_type": "display_data"
    }
   ],
   "source": [
    "plt.scatter(*xc)\n",
    "plt.scatter(*yc)\n",
    "plt.plot(x_values, y_values, label='Decision Boundary')\n",
    "plt.xlim(1,6)\n",
    "plt.ylim((-200,1400))\n",
    "plt.show()"
   ]
  },
  {
   "cell_type": "code",
   "execution_count": 63,
   "metadata": {},
   "outputs": [
    {
     "data": {
      "text/plain": [
       "[-6.260184542082582, 2.477072431408631, -0.029912515591318675]"
      ]
     },
     "execution_count": 63,
     "metadata": {},
     "output_type": "execute_result"
    }
   ],
   "source": [
    "parameters = theta.T.copy()\n",
    "parameters = np.ravel(parameters)\n",
    "parameters = list(parameters)\n",
    "parameters"
   ]
  },
  {
   "cell_type": "code",
   "execution_count": 64,
   "metadata": {},
   "outputs": [],
   "source": [
    "x_values = [np.min(X_val[:, 1] - 5), np.max(X_val[:, 2] + 5)]"
   ]
  },
  {
   "cell_type": "code",
   "execution_count": 65,
   "metadata": {},
   "outputs": [],
   "source": [
    "y_values = - (parameters[0] + np.dot(parameters[1], x_values)) / parameters[2]"
   ]
  },
  {
   "cell_type": "code",
   "execution_count": null,
   "metadata": {},
   "outputs": [],
   "source": []
  }
 ],
 "metadata": {
  "kernelspec": {
   "display_name": "Python 3",
   "language": "python",
   "name": "python3"
  },
  "language_info": {
   "codemirror_mode": {
    "name": "ipython",
    "version": 3
   },
   "file_extension": ".py",
   "mimetype": "text/x-python",
   "name": "python",
   "nbconvert_exporter": "python",
   "pygments_lexer": "ipython3",
   "version": "3.6.3"
  }
 },
 "nbformat": 4,
 "nbformat_minor": 2
}
