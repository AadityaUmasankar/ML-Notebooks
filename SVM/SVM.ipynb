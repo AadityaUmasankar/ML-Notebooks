{
 "cells": [
  {
   "cell_type": "markdown",
   "metadata": {},
   "source": [
    "# Importing packages.\n"
   ]
  },
  {
   "cell_type": "code",
   "execution_count": 1,
   "metadata": {},
   "outputs": [],
   "source": [
    "import numpy as np\n",
    "from cvxopt import matrix,solvers\n",
    "import numexpr as ne"
   ]
  },
  {
   "cell_type": "code",
   "execution_count": 2,
   "metadata": {},
   "outputs": [],
   "source": [
    "np.set_printoptions(threshold=5)"
   ]
  },
  {
   "cell_type": "markdown",
   "metadata": {},
   "source": [
    "# Loading our dataset. Taken from kaggle https://www.kaggle.com/itsmesunil/bank-loan-modelling"
   ]
  },
  {
   "cell_type": "code",
   "execution_count": 3,
   "metadata": {},
   "outputs": [
    {
     "data": {
      "text/plain": [
       "(5000, 14)"
      ]
     },
     "execution_count": 3,
     "metadata": {},
     "output_type": "execute_result"
    }
   ],
   "source": [
    "data = np.genfromtxt('bank.csv', delimiter=',', skip_header=True)\n",
    "data.shape\n"
   ]
  },
  {
   "cell_type": "code",
   "execution_count": 4,
   "metadata": {},
   "outputs": [
    {
     "data": {
      "text/plain": [
       "array([[25.,  1., 49., ...,  0.,  0.,  0.],\n",
       "       [45., 19., 34., ...,  0.,  0.,  0.],\n",
       "       [39., 15., 11., ...,  0.,  0.,  0.],\n",
       "       ...,\n",
       "       [63., 39., 24., ...,  0.,  0.,  0.],\n",
       "       [65., 40., 49., ...,  0.,  1.,  0.],\n",
       "       [28.,  4., 83., ...,  0.,  1.,  1.]])"
      ]
     },
     "execution_count": 4,
     "metadata": {},
     "output_type": "execute_result"
    }
   ],
   "source": [
    "data = np.delete(data,0,1) #deleting the first column since it is just serial number\n",
    "data"
   ]
  },
  {
   "cell_type": "code",
   "execution_count": 5,
   "metadata": {},
   "outputs": [],
   "source": [
    "X = data[:,[0,1,2,3,4,5,6,7,9,10,11,12]]\n",
    "Y = data[:,[8]]\n",
    "Y = Y.ravel()"
   ]
  },
  {
   "cell_type": "code",
   "execution_count": 6,
   "metadata": {},
   "outputs": [],
   "source": [
    "from sklearn.preprocessing import StandardScaler"
   ]
  },
  {
   "cell_type": "code",
   "execution_count": 7,
   "metadata": {},
   "outputs": [],
   "source": [
    "scaler = StandardScaler()"
   ]
  },
  {
   "cell_type": "code",
   "execution_count": 8,
   "metadata": {},
   "outputs": [],
   "source": [
    "# for i,j in enumerate(Y):\n",
    "#     if j == -1:\n",
    "#         Y[i] = 0"
   ]
  },
  {
   "cell_type": "code",
   "execution_count": 9,
   "metadata": {},
   "outputs": [],
   "source": [
    "scaler.fit(X)\n",
    "X_tansf = scaler.transform(X)"
   ]
  },
  {
   "cell_type": "code",
   "execution_count": 10,
   "metadata": {},
   "outputs": [
    {
     "data": {
      "text/plain": [
       "array([[-1.77441684, -1.66607847, -0.53822878, ..., -0.25354028,\n",
       "        -1.21661774, -0.64531434],\n",
       "       [-0.02952359, -0.09633022, -0.8641094 , ..., -0.25354028,\n",
       "        -1.21661774, -0.64531434],\n",
       "       [-0.55299157, -0.44516316, -1.36379301, ..., -0.25354028,\n",
       "        -1.21661774, -0.64531434],\n",
       "       ...,\n",
       "       [ 1.54088033,  1.64783451, -1.08136314, ..., -0.25354028,\n",
       "        -1.21661774, -0.64531434],\n",
       "       [ 1.71536965,  1.73504275, -0.53822878, ..., -0.25354028,\n",
       "         0.82195086, -0.64531434],\n",
       "       [-1.51268285, -1.40445376,  0.20043396, ..., -0.25354028,\n",
       "         0.82195086,  1.54963239]])"
      ]
     },
     "execution_count": 10,
     "metadata": {},
     "output_type": "execute_result"
    }
   ],
   "source": [
    "X_tansf"
   ]
  },
  {
   "cell_type": "code",
   "execution_count": 11,
   "metadata": {},
   "outputs": [
    {
     "data": {
      "text/plain": [
       "array([-1., -1., -1., ..., -1., -1., -1.])"
      ]
     },
     "execution_count": 11,
     "metadata": {},
     "output_type": "execute_result"
    }
   ],
   "source": [
    "Y"
   ]
  },
  {
   "cell_type": "markdown",
   "metadata": {},
   "source": [
    " RBF Kernel used in this implementation.\n",
    "![](gaussian-radial-basis-function-RBF.png)"
   ]
  },
  {
   "cell_type": "code",
   "execution_count": 12,
   "metadata": {},
   "outputs": [],
   "source": [
    "# def rbf_kernel_matrix(X_i,X_j,gamma=0.5):\n",
    "#     K = np.zeros((X_i.shape[0], X_j.shape[0]))\n",
    "#     for idx, x_i in enumerate(X_i):\n",
    "#             for jdx, x_j in enumerate(X_j):\n",
    "#                 K[idx, jdx] = np.exp(-gamma * np.linalg.norm(x_i - x_j) ** 2)\n",
    "        \n",
    "#     return K"
   ]
  },
  {
   "cell_type": "code",
   "execution_count": 13,
   "metadata": {},
   "outputs": [],
   "source": [
    "def rbf_kernel(X):\n",
    "    X_norm = np.sum(X ** 2, axis = -1)\n",
    "    var = 5\n",
    "    gamma = 0.01\n",
    "    K = ne.evaluate('v * exp(-g * (A + B - 2 * C))', {\n",
    "        'A' : X_norm[:,None],\n",
    "        'B' : X_norm[None,:],\n",
    "        'C' : np.dot(X, X.T),\n",
    "        'g' : gamma,\n",
    "        'v' : var\n",
    "    })\n",
    "    return K"
   ]
  },
  {
   "cell_type": "code",
   "execution_count": 14,
   "metadata": {},
   "outputs": [],
   "source": [
    "def train_svm():\n",
    "    C = 100\n",
    "    n, k = X_tansf.shape\n",
    "    \n",
    "    y_matrix = Y.reshape(1, -1)\n",
    "    H = np.dot(y_matrix.T, y_matrix) * rbf_kernel(X_tansf)\n",
    "    P = matrix(H)\n",
    "    q = matrix(-np.ones((n, 1)))\n",
    "    G = matrix(np.vstack((-np.eye((n)), np.eye(n))))\n",
    "    h = matrix(np.vstack((np.zeros((n,1)), np.ones((n,1)) * C)))\n",
    "    A = matrix(y_matrix)\n",
    "    b = matrix(np.zeros(1))\n",
    "    \n",
    "    solvers.options['abstol'] = 1e-10\n",
    "    solvers.options['reltol'] = 1e-10\n",
    "    solvers.options['feastol'] = 1e-10\n",
    "\n",
    "    return solvers.qp(P, q, G, h, A, b)"
   ]
  },
  {
   "cell_type": "code",
   "execution_count": 15,
   "metadata": {},
   "outputs": [
    {
     "name": "stdout",
     "output_type": "stream",
     "text": [
      "     pcost       dcost       gap    pres   dres\n",
      " 0:  1.6979e+05 -2.4562e+07  6e+07  6e-01  4e-12\n",
      " 1:  2.3927e+05 -6.9609e+06  1e+07  9e-02  4e-12\n",
      " 2:  1.4048e+05 -2.0957e+06  3e+06  2e-02  3e-12\n",
      " 3:  8.9833e+04 -1.0854e+06  1e+06  8e-03  3e-12\n",
      " 4:  5.3916e+04 -6.5005e+05  8e+05  3e-03  3e-12\n",
      " 5:  2.5892e+04 -3.5655e+05  4e+05  1e-03  3e-12\n",
      " 6:  8.2962e+03 -1.9663e+05  2e+05  5e-04  3e-12\n",
      " 7: -3.2737e+03 -9.0647e+04  9e+04  1e-04  3e-12\n",
      " 8: -7.7322e+03 -5.5517e+04  5e+04  5e-05  3e-12\n",
      " 9: -8.6378e+03 -5.0730e+04  4e+04  4e-05  3e-12\n",
      "10: -1.0717e+04 -3.9661e+04  3e+04  2e-05  3e-12\n",
      "11: -1.1636e+04 -3.5751e+04  2e+04  1e-05  3e-12\n",
      "12: -1.2528e+04 -3.1582e+04  2e+04  6e-06  3e-12\n",
      "13: -1.3421e+04 -2.7422e+04  1e+04  2e-06  4e-12\n",
      "14: -1.4229e+04 -2.4507e+04  1e+04  9e-07  4e-12\n",
      "15: -1.4643e+04 -2.2515e+04  8e+03  3e-07  4e-12\n",
      "16: -1.5060e+04 -2.1462e+04  6e+03  2e-07  4e-12\n",
      "17: -1.6028e+04 -1.8972e+04  3e+03  2e-08  5e-12\n",
      "18: -1.6182e+04 -1.8626e+04  2e+03  8e-09  4e-12\n",
      "19: -1.6560e+04 -1.7937e+04  1e+03  3e-09  5e-12\n",
      "20: -1.6723e+04 -1.7586e+04  9e+02  4e-10  5e-12\n",
      "21: -1.6943e+04 -1.7265e+04  3e+02  8e-13  6e-12\n",
      "22: -1.7041e+04 -1.7142e+04  1e+02  3e-12  6e-12\n",
      "23: -1.7071e+04 -1.7107e+04  4e+01  2e-12  6e-12\n",
      "24: -1.7087e+04 -1.7089e+04  1e+00  2e-12  6e-12\n",
      "25: -1.7088e+04 -1.7088e+04  2e-02  5e-13  6e-12\n",
      "26: -1.7088e+04 -1.7088e+04  2e-04  2e-13  6e-12\n",
      "27: -1.7088e+04 -1.7088e+04  2e-06  8e-13  6e-12\n",
      "28: -1.7088e+04 -1.7088e+04  2e-08  2e-12  6e-12\n",
      "Optimal solution found.\n",
      "{'x': <5000x1 matrix, tc='d'>, 'y': <1x1 matrix, tc='d'>, 's': <10000x1 matrix, tc='d'>, 'z': <10000x1 matrix, tc='d'>, 'status': 'optimal', 'gap': 2.182417707214742e-08, 'relative gap': 1.2771677038826476e-12, 'primal objective': -17087.949378770645, 'dual objective': -17087.949378792477, 'primal infeasibility': 2.2737367544323206e-12, 'dual infeasibility': 5.831556085214973e-12, 'primal slack': 1.3935980996746583e-13, 'dual slack': 2.0575818289524174e-14, 'iterations': 28}\n"
     ]
    }
   ],
   "source": [
    "svm_parameters = train_svm()\n",
    "print(svm_parameters)"
   ]
  },
  {
   "cell_type": "code",
   "execution_count": 16,
   "metadata": {},
   "outputs": [],
   "source": [
    "def get_parameters(alphas):\n",
    "    threshold = 1e-4 \n",
    "    S = (alphas > threshold).flatten()\n",
    "    w = np.dot(X_tansf.T, alphas * Y)\n",
    "    b = Y[S] - np.dot(X_tansf[S], w)\n",
    "    b = np.mean(b)\n",
    "    return w, b, S\n",
    "\n",
    "alphas = np.array(svm_parameters['x'])[:, 0]\n",
    "w, b, S = get_parameters(alphas)"
   ]
  },
  {
   "cell_type": "code",
   "execution_count": 17,
   "metadata": {},
   "outputs": [
    {
     "name": "stdout",
     "output_type": "stream",
     "text": [
      "Alphas: [ 92.11760169 100.         100.         ... 100.         100.\n",
      "  12.85531111]\n",
      "w and b [  8.21197566  27.59608188  48.37508838 ...  23.37312929 -24.63812018\n",
      "  -1.2421954 ] -38.5833688992389\n"
     ]
    }
   ],
   "source": [
    "print('Alphas:', alphas[S][0:20])\n",
    "print('w and b', w, b)"
   ]
  },
  {
   "cell_type": "code",
   "execution_count": 18,
   "metadata": {},
   "outputs": [],
   "source": [
    "def predict(x):\n",
    "    result = np.sign(np.dot(x,w) + b)\n",
    "    return result"
   ]
  },
  {
   "cell_type": "code",
   "execution_count": 19,
   "metadata": {},
   "outputs": [],
   "source": [
    "y_preds = predict(X)"
   ]
  },
  {
   "cell_type": "code",
   "execution_count": 20,
   "metadata": {},
   "outputs": [
    {
     "data": {
      "text/plain": [
       "array([-1., -1., -1., ..., -1., -1., -1.])"
      ]
     },
     "execution_count": 20,
     "metadata": {},
     "output_type": "execute_result"
    }
   ],
   "source": [
    "y_preds"
   ]
  },
  {
   "cell_type": "code",
   "execution_count": 21,
   "metadata": {},
   "outputs": [],
   "source": [
    "from sklearn.metrics import accuracy_score"
   ]
  },
  {
   "cell_type": "code",
   "execution_count": 22,
   "metadata": {},
   "outputs": [
    {
     "name": "stdout",
     "output_type": "stream",
     "text": [
      "training accuracy is 0.904\n"
     ]
    }
   ],
   "source": [
    "print(\"training accuracy is {}\".format(accuracy_score(y_preds,Y)))"
   ]
  },
  {
   "cell_type": "code",
   "execution_count": null,
   "metadata": {},
   "outputs": [],
   "source": []
  }
 ],
 "metadata": {
  "kernelspec": {
   "display_name": "Python 3",
   "language": "python",
   "name": "python3"
  },
  "language_info": {
   "codemirror_mode": {
    "name": "ipython",
    "version": 3
   },
   "file_extension": ".py",
   "mimetype": "text/x-python",
   "name": "python",
   "nbconvert_exporter": "python",
   "pygments_lexer": "ipython3",
   "version": "3.6.3"
  }
 },
 "nbformat": 4,
 "nbformat_minor": 2
}
