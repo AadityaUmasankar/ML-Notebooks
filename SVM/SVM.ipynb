{
 "cells": [
  {
   "cell_type": "markdown",
   "metadata": {},
   "source": [
    "# Importing packages.\n"
   ]
  },
  {
   "cell_type": "code",
   "execution_count": 1,
   "metadata": {},
   "outputs": [],
   "source": [
    "import numpy as np\n",
    "from cvxopt import matrix,solvers"
   ]
  },
  {
   "cell_type": "code",
   "execution_count": 28,
   "metadata": {},
   "outputs": [],
   "source": [
    "np.set_printoptions(threshold=5)"
   ]
  },
  {
   "cell_type": "markdown",
   "metadata": {},
   "source": [
    "# Loading our dataset. Taken from kaggle https://www.kaggle.com/itsmesunil/bank-loan-modelling"
   ]
  },
  {
   "cell_type": "code",
   "execution_count": 29,
   "metadata": {},
   "outputs": [
    {
     "data": {
      "text/plain": [
       "(5000, 14)"
      ]
     },
     "execution_count": 29,
     "metadata": {},
     "output_type": "execute_result"
    }
   ],
   "source": [
    "data = np.genfromtxt('bank.csv', delimiter=',', skip_header=True)\n",
    "data.shape\n"
   ]
  },
  {
   "cell_type": "code",
   "execution_count": 30,
   "metadata": {},
   "outputs": [
    {
     "data": {
      "text/plain": [
       "array([[25.,  1., 49., ...,  0.,  0.,  0.],\n",
       "       [45., 19., 34., ...,  0.,  0.,  0.],\n",
       "       [39., 15., 11., ...,  0.,  0.,  0.],\n",
       "       ...,\n",
       "       [63., 39., 24., ...,  0.,  0.,  0.],\n",
       "       [65., 40., 49., ...,  0.,  1.,  0.],\n",
       "       [28.,  4., 83., ...,  0.,  1.,  1.]])"
      ]
     },
     "execution_count": 30,
     "metadata": {},
     "output_type": "execute_result"
    }
   ],
   "source": [
    "data = np.delete(data,0,1) #deleting the first column since it is just serial number\n",
    "data"
   ]
  },
  {
   "cell_type": "code",
   "execution_count": 70,
   "metadata": {},
   "outputs": [],
   "source": [
    "X = data[:,[0,1,2,3,4,5,6,7,9,10,11,12]]\n",
    "Y = data[:,[8]]\n",
    "Y = np.ravel(Y)"
   ]
  },
  {
   "cell_type": "code",
   "execution_count": 71,
   "metadata": {},
   "outputs": [
    {
     "data": {
      "text/plain": [
       "(5000,)"
      ]
     },
     "execution_count": 71,
     "metadata": {},
     "output_type": "execute_result"
    }
   ],
   "source": [
    "Y.shape"
   ]
  },
  {
   "cell_type": "markdown",
   "metadata": {},
   "source": [
    " RBF Kernel used in this implementation.\n",
    "![](gaussian-radial-basis-function-RBF.png)"
   ]
  },
  {
   "cell_type": "code",
   "execution_count": 37,
   "metadata": {},
   "outputs": [],
   "source": [
    "def rbf_kernel_matrix(X_i,X_j,gamma=0.3):\n",
    "    K = np.zeros((X_i.shape[0], X_j.shape[0]))\n",
    "    for idx, x_i in enumerate(X_i):\n",
    "            for jdx, x_j in enumerate(X_j):\n",
    "                K[idx, jdx] = np.exp(-gamma * np.linalg.norm(x_i - x_j) ** 2)\n",
    "        \n",
    "    return K"
   ]
  },
  {
   "cell_type": "code",
   "execution_count": 75,
   "metadata": {},
   "outputs": [],
   "source": [
    "def train_svm():\n",
    "    C = 100\n",
    "    n, k = X.shape\n",
    "    \n",
    "    y_matrix = Y.reshape(1, -1)\n",
    "    H = np.dot(y_matrix.T, y_matrix) * rbf_kernel_matrix(X, X)\n",
    "    P = matrix(H)\n",
    "    q = matrix(-np.ones((n, 1)))\n",
    "    G = matrix(np.vstack((-np.eye((n)), np.eye(n))))\n",
    "    h = matrix(np.vstack((np.zeros((n,1)), np.ones((n,1)) * C)))\n",
    "    A = matrix(y_matrix)\n",
    "    b = matrix(np.zeros(1))\n",
    "    \n",
    "    solvers.options['abstol'] = 1e-10\n",
    "    solvers.options['reltol'] = 1e-10\n",
    "    solvers.options['feastol'] = 1e-10\n",
    "\n",
    "    return solvers.qp(P, q, G, h, A, b)"
   ]
  },
  {
   "cell_type": "code",
   "execution_count": 76,
   "metadata": {},
   "outputs": [
    {
     "name": "stdout",
     "output_type": "stream",
     "text": [
      "     pcost       dcost       gap    pres   dres\n",
      " 0: -2.2826e+05 -2.3326e+07  2e+07  1e-02  1e-14\n",
      " 1: -2.3252e+05 -6.8119e+05  4e+05  3e-04  5e-15\n",
      " 2: -4.1092e+05 -4.5502e+05  4e+04  2e-05  9e-15\n",
      " 3: -4.5159e+05 -4.5207e+05  5e+02  2e-07  2e-15\n",
      " 4: -4.5200e+05 -4.5200e+05  5e+00  2e-09  9e-15\n",
      " 5: -4.5200e+05 -4.5200e+05  5e-02  2e-11  3e-15\n",
      " 6: -4.5200e+05 -4.5200e+05  5e-04  2e-13  2e-15\n",
      " 7: -4.5200e+05 -4.5200e+05  5e-06  2e-15  2e-14\n",
      "Optimal solution found.\n",
      "{'x': <5000x1 matrix, tc='d'>, 'y': <1x1 matrix, tc='d'>, 's': <10000x1 matrix, tc='d'>, 'z': <10000x1 matrix, tc='d'>, 'status': 'optimal', 'gap': 4.8143803378981185e-06, 'relative gap': 1.0651283933499717e-11, 'primal objective': -451999.99999589217, 'dual objective': -452000.00000069465, 'primal infeasibility': 1.8224139585119536e-15, 'dual infeasibility': 1.713840376470244e-14, 'primal slack': 1.3303551890890983e-13, 'dual slack': 1.3358934343279811e-12, 'iterations': 7}\n"
     ]
    }
   ],
   "source": [
    "svm_parameters = train_svm()\n",
    "print(svm_parameters)"
   ]
  },
  {
   "cell_type": "code",
   "execution_count": 78,
   "metadata": {},
   "outputs": [],
   "source": [
    "def get_parameters(alphas):\n",
    "    threshold = 1e-5 # Values greater than zero (some floating point tolerance)\n",
    "    S = (alphas > threshold).reshape(-1, )\n",
    "    w = np.dot(X.T, alphas * Y)\n",
    "    b = Y[S] - np.dot(X[S], w) # b calculation\n",
    "    b = np.mean(b)\n",
    "    return w, b, S\n",
    "\n",
    "alphas = np.array(svm_parameters['x'])[:, 0]\n",
    "w, b, S = get_parameters(alphas)"
   ]
  },
  {
   "cell_type": "code",
   "execution_count": 79,
   "metadata": {},
   "outputs": [
    {
     "name": "stdout",
     "output_type": "stream",
     "text": [
      "Alphas: [100. 100. 100. ... 100. 100. 100.]\n",
      "w and b [8.30415189e-23 3.58628147e-23 2.71188047e-22 ... 5.54852477e-25\n",
      " 1.13624505e-24 5.69245383e-25] -1.625619421064422e-14\n"
     ]
    }
   ],
   "source": [
    "print('Alphas:', alphas[S][0:20])\n",
    "print('w and b', w, b)"
   ]
  },
  {
   "cell_type": "code",
   "execution_count": null,
   "metadata": {},
   "outputs": [],
   "source": []
  }
 ],
 "metadata": {
  "kernelspec": {
   "display_name": "Python 3",
   "language": "python",
   "name": "python3"
  },
  "language_info": {
   "codemirror_mode": {
    "name": "ipython",
    "version": 3
   },
   "file_extension": ".py",
   "mimetype": "text/x-python",
   "name": "python",
   "nbconvert_exporter": "python",
   "pygments_lexer": "ipython3",
   "version": "3.6.3"
  }
 },
 "nbformat": 4,
 "nbformat_minor": 2
}
